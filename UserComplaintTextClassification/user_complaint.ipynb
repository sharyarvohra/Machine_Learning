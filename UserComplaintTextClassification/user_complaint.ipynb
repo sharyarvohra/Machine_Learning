{
  "nbformat": 4,
  "nbformat_minor": 0,
  "metadata": {
    "colab": {
      "name": "Internee challenge.ipynb",
      "provenance": [],
      "collapsed_sections": []
    },
    "kernelspec": {
      "name": "python3",
      "display_name": "Python 3"
    }
  },
  "cells": [
    {
      "cell_type": "code",
      "metadata": {
        "id": "v71Ki0_cUHnr",
        "outputId": "bc2f96f8-26f0-4e17-f9d3-d7d26f5ce975",
        "colab": {
          "base_uri": "https://localhost:8080/",
          "height": 124
        }
      },
      "source": [
        "from google.colab import drive\n",
        "drive.mount('/content/gdrive')"
      ],
      "execution_count": null,
      "outputs": [
        {
          "output_type": "stream",
          "text": [
            "Go to this URL in a browser: https://accounts.google.com/o/oauth2/auth?client_id=947318989803-6bn6qk8qdgf4n4g3pfee6491hc0brc4i.apps.googleusercontent.com&redirect_uri=urn%3aietf%3awg%3aoauth%3a2.0%3aoob&scope=email%20https%3a%2f%2fwww.googleapis.com%2fauth%2fdocs.test%20https%3a%2f%2fwww.googleapis.com%2fauth%2fdrive%20https%3a%2f%2fwww.googleapis.com%2fauth%2fdrive.photos.readonly%20https%3a%2f%2fwww.googleapis.com%2fauth%2fpeopleapi.readonly&response_type=code\n",
            "\n",
            "Enter your authorization code:\n",
            "··········\n",
            "Mounted at /content/gdrive\n"
          ],
          "name": "stdout"
        }
      ]
    },
    {
      "cell_type": "code",
      "metadata": {
        "id": "ExSFRDt1UVB5",
        "outputId": "12cde9de-34fa-4d16-b85f-e263305f8ef6",
        "colab": {
          "base_uri": "https://localhost:8080/",
          "height": 72
        }
      },
      "source": [
        "import pandas as pd\n",
        "import matplotlib.pyplot as plt\n",
        "import seaborn as sns\n",
        "import numpy as np\n",
        "from scipy import stats\n",
        "%matplotlib inline\n",
        "sns.set(color_codes=True)\n",
        "pd.options.mode.chained_assignment = None  # default='warn'"
      ],
      "execution_count": null,
      "outputs": [
        {
          "output_type": "stream",
          "text": [
            "/usr/local/lib/python3.6/dist-packages/statsmodels/tools/_testing.py:19: FutureWarning: pandas.util.testing is deprecated. Use the functions in the public API at pandas.testing instead.\n",
            "  import pandas.util.testing as tm\n"
          ],
          "name": "stderr"
        }
      ]
    },
    {
      "cell_type": "code",
      "metadata": {
        "id": "o244GGiiUZv5",
        "outputId": "a63bd2f9-2d56-4001-a6dc-9a8d7fcf0d56",
        "colab": {
          "base_uri": "https://localhost:8080/",
          "height": 534
        }
      },
      "source": [
        "df=pd.read_csv('/content/gdrive/My Drive/Consumer_Complaints.csv')\n",
        "df.head()"
      ],
      "execution_count": null,
      "outputs": [
        {
          "output_type": "stream",
          "text": [
            "/usr/local/lib/python3.6/dist-packages/IPython/core/interactiveshell.py:2718: DtypeWarning: Columns (5,11) have mixed types.Specify dtype option on import or set low_memory=False.\n",
            "  interactivity=interactivity, compiler=compiler, result=result)\n"
          ],
          "name": "stderr"
        },
        {
          "output_type": "execute_result",
          "data": {
            "text/html": [
              "<div>\n",
              "<style scoped>\n",
              "    .dataframe tbody tr th:only-of-type {\n",
              "        vertical-align: middle;\n",
              "    }\n",
              "\n",
              "    .dataframe tbody tr th {\n",
              "        vertical-align: top;\n",
              "    }\n",
              "\n",
              "    .dataframe thead th {\n",
              "        text-align: right;\n",
              "    }\n",
              "</style>\n",
              "<table border=\"1\" class=\"dataframe\">\n",
              "  <thead>\n",
              "    <tr style=\"text-align: right;\">\n",
              "      <th></th>\n",
              "      <th>Date received</th>\n",
              "      <th>Product</th>\n",
              "      <th>Sub-product</th>\n",
              "      <th>Issue</th>\n",
              "      <th>Sub-issue</th>\n",
              "      <th>Consumer complaint narrative</th>\n",
              "      <th>Company public response</th>\n",
              "      <th>Company</th>\n",
              "      <th>State</th>\n",
              "      <th>ZIP code</th>\n",
              "      <th>Tags</th>\n",
              "      <th>Consumer consent provided?</th>\n",
              "      <th>Submitted via</th>\n",
              "      <th>Date sent to company</th>\n",
              "      <th>Company response to consumer</th>\n",
              "      <th>Timely response?</th>\n",
              "      <th>Consumer disputed?</th>\n",
              "      <th>Complaint ID</th>\n",
              "    </tr>\n",
              "  </thead>\n",
              "  <tbody>\n",
              "    <tr>\n",
              "      <th>0</th>\n",
              "      <td>07/29/2013</td>\n",
              "      <td>Consumer Loan</td>\n",
              "      <td>Vehicle loan</td>\n",
              "      <td>Managing the loan or lease</td>\n",
              "      <td>NaN</td>\n",
              "      <td>NaN</td>\n",
              "      <td>NaN</td>\n",
              "      <td>Wells Fargo &amp; Company</td>\n",
              "      <td>VA</td>\n",
              "      <td>24540</td>\n",
              "      <td>NaN</td>\n",
              "      <td>NaN</td>\n",
              "      <td>Phone</td>\n",
              "      <td>07/30/2013</td>\n",
              "      <td>Closed with explanation</td>\n",
              "      <td>Yes</td>\n",
              "      <td>No</td>\n",
              "      <td>468882</td>\n",
              "    </tr>\n",
              "    <tr>\n",
              "      <th>1</th>\n",
              "      <td>07/29/2013</td>\n",
              "      <td>Bank account or service</td>\n",
              "      <td>Checking account</td>\n",
              "      <td>Using a debit or ATM card</td>\n",
              "      <td>NaN</td>\n",
              "      <td>NaN</td>\n",
              "      <td>NaN</td>\n",
              "      <td>Wells Fargo &amp; Company</td>\n",
              "      <td>CA</td>\n",
              "      <td>95992</td>\n",
              "      <td>Older American</td>\n",
              "      <td>NaN</td>\n",
              "      <td>Web</td>\n",
              "      <td>07/31/2013</td>\n",
              "      <td>Closed with explanation</td>\n",
              "      <td>Yes</td>\n",
              "      <td>No</td>\n",
              "      <td>468889</td>\n",
              "    </tr>\n",
              "    <tr>\n",
              "      <th>2</th>\n",
              "      <td>07/29/2013</td>\n",
              "      <td>Bank account or service</td>\n",
              "      <td>Checking account</td>\n",
              "      <td>Account opening, closing, or management</td>\n",
              "      <td>NaN</td>\n",
              "      <td>NaN</td>\n",
              "      <td>NaN</td>\n",
              "      <td>Santander Bank US</td>\n",
              "      <td>NY</td>\n",
              "      <td>10065</td>\n",
              "      <td>NaN</td>\n",
              "      <td>NaN</td>\n",
              "      <td>Fax</td>\n",
              "      <td>07/31/2013</td>\n",
              "      <td>Closed</td>\n",
              "      <td>Yes</td>\n",
              "      <td>No</td>\n",
              "      <td>468879</td>\n",
              "    </tr>\n",
              "    <tr>\n",
              "      <th>3</th>\n",
              "      <td>07/29/2013</td>\n",
              "      <td>Bank account or service</td>\n",
              "      <td>Checking account</td>\n",
              "      <td>Deposits and withdrawals</td>\n",
              "      <td>NaN</td>\n",
              "      <td>NaN</td>\n",
              "      <td>NaN</td>\n",
              "      <td>Wells Fargo &amp; Company</td>\n",
              "      <td>GA</td>\n",
              "      <td>30084</td>\n",
              "      <td>NaN</td>\n",
              "      <td>NaN</td>\n",
              "      <td>Web</td>\n",
              "      <td>07/30/2013</td>\n",
              "      <td>Closed with explanation</td>\n",
              "      <td>Yes</td>\n",
              "      <td>No</td>\n",
              "      <td>468949</td>\n",
              "    </tr>\n",
              "    <tr>\n",
              "      <th>4</th>\n",
              "      <td>07/29/2013</td>\n",
              "      <td>Mortgage</td>\n",
              "      <td>Conventional fixed mortgage</td>\n",
              "      <td>Loan servicing, payments, escrow account</td>\n",
              "      <td>NaN</td>\n",
              "      <td>NaN</td>\n",
              "      <td>NaN</td>\n",
              "      <td>Franklin Credit Management</td>\n",
              "      <td>CT</td>\n",
              "      <td>06106</td>\n",
              "      <td>NaN</td>\n",
              "      <td>NaN</td>\n",
              "      <td>Web</td>\n",
              "      <td>07/30/2013</td>\n",
              "      <td>Closed with explanation</td>\n",
              "      <td>Yes</td>\n",
              "      <td>No</td>\n",
              "      <td>475823</td>\n",
              "    </tr>\n",
              "  </tbody>\n",
              "</table>\n",
              "</div>"
            ],
            "text/plain": [
              "  Date received                  Product  ... Consumer disputed? Complaint ID\n",
              "0    07/29/2013            Consumer Loan  ...                 No       468882\n",
              "1    07/29/2013  Bank account or service  ...                 No       468889\n",
              "2    07/29/2013  Bank account or service  ...                 No       468879\n",
              "3    07/29/2013  Bank account or service  ...                 No       468949\n",
              "4    07/29/2013                 Mortgage  ...                 No       475823\n",
              "\n",
              "[5 rows x 18 columns]"
            ]
          },
          "metadata": {
            "tags": []
          },
          "execution_count": 3
        }
      ]
    },
    {
      "cell_type": "code",
      "metadata": {
        "id": "MR8Eea10Uaso",
        "outputId": "d7524e9c-74d6-4aae-82e9-1b0ad4ebc376",
        "colab": {
          "base_uri": "https://localhost:8080/",
          "height": 347
        }
      },
      "source": [
        "#finding the datatyoes of each column\n",
        "\n",
        "df.dtypes        #all the attribute are objects => need to change them into numerical (int / float)"
      ],
      "execution_count": null,
      "outputs": [
        {
          "output_type": "execute_result",
          "data": {
            "text/plain": [
              "Date received                   object\n",
              "Product                         object\n",
              "Sub-product                     object\n",
              "Issue                           object\n",
              "Sub-issue                       object\n",
              "Consumer complaint narrative    object\n",
              "Company public response         object\n",
              "Company                         object\n",
              "State                           object\n",
              "ZIP code                        object\n",
              "Tags                            object\n",
              "Consumer consent provided?      object\n",
              "Submitted via                   object\n",
              "Date sent to company            object\n",
              "Company response to consumer    object\n",
              "Timely response?                object\n",
              "Consumer disputed?              object\n",
              "Complaint ID                     int64\n",
              "dtype: object"
            ]
          },
          "metadata": {
            "tags": []
          },
          "execution_count": 4
        }
      ]
    },
    {
      "cell_type": "code",
      "metadata": {
        "id": "Nu8V0qdzUc-E",
        "outputId": "ba05635f-2128-4dde-9e9a-77624a1e2275",
        "colab": {
          "base_uri": "https://localhost:8080/",
          "height": 35
        }
      },
      "source": [
        "# The shape of the dataframe. Data has 670598 entries\n",
        "\n",
        "df.shape"
      ],
      "execution_count": null,
      "outputs": [
        {
          "output_type": "execute_result",
          "data": {
            "text/plain": [
              "(670598, 18)"
            ]
          },
          "metadata": {
            "tags": []
          },
          "execution_count": 5
        }
      ]
    },
    {
      "cell_type": "code",
      "metadata": {
        "id": "aV7rIyjXUfgX",
        "outputId": "c2d10321-b314-490b-e324-8704efa1d980",
        "colab": {
          "base_uri": "https://localhost:8080/",
          "height": 35
        }
      },
      "source": [
        "#checking if there is any repeated rows in dataframe\n",
        "a=df.duplicated()\n",
        "a[a==True].count() #0 returns that there are no repeated rows."
      ],
      "execution_count": null,
      "outputs": [
        {
          "output_type": "execute_result",
          "data": {
            "text/plain": [
              "0"
            ]
          },
          "metadata": {
            "tags": []
          },
          "execution_count": 6
        }
      ]
    },
    {
      "cell_type": "code",
      "metadata": {
        "id": "0rc4KthXUk7i",
        "outputId": "359e781b-e783-4779-a152-992f426eb5bb",
        "colab": {
          "base_uri": "https://localhost:8080/",
          "height": 121
        }
      },
      "source": [
        "duplicate_rows = df[df.duplicated()]\n",
        "duplicate_rows        #empty dataframe => means no repeated row."
      ],
      "execution_count": null,
      "outputs": [
        {
          "output_type": "execute_result",
          "data": {
            "text/html": [
              "<div>\n",
              "<style scoped>\n",
              "    .dataframe tbody tr th:only-of-type {\n",
              "        vertical-align: middle;\n",
              "    }\n",
              "\n",
              "    .dataframe tbody tr th {\n",
              "        vertical-align: top;\n",
              "    }\n",
              "\n",
              "    .dataframe thead th {\n",
              "        text-align: right;\n",
              "    }\n",
              "</style>\n",
              "<table border=\"1\" class=\"dataframe\">\n",
              "  <thead>\n",
              "    <tr style=\"text-align: right;\">\n",
              "      <th></th>\n",
              "      <th>Date received</th>\n",
              "      <th>Product</th>\n",
              "      <th>Sub-product</th>\n",
              "      <th>Issue</th>\n",
              "      <th>Sub-issue</th>\n",
              "      <th>Consumer complaint narrative</th>\n",
              "      <th>Company public response</th>\n",
              "      <th>Company</th>\n",
              "      <th>State</th>\n",
              "      <th>ZIP code</th>\n",
              "      <th>Tags</th>\n",
              "      <th>Consumer consent provided?</th>\n",
              "      <th>Submitted via</th>\n",
              "      <th>Date sent to company</th>\n",
              "      <th>Company response to consumer</th>\n",
              "      <th>Timely response?</th>\n",
              "      <th>Consumer disputed?</th>\n",
              "      <th>Complaint ID</th>\n",
              "    </tr>\n",
              "  </thead>\n",
              "  <tbody>\n",
              "  </tbody>\n",
              "</table>\n",
              "</div>"
            ],
            "text/plain": [
              "Empty DataFrame\n",
              "Columns: [Date received, Product, Sub-product, Issue, Sub-issue, Consumer complaint narrative, Company public response, Company, State, ZIP code, Tags, Consumer consent provided?, Submitted via, Date sent to company, Company response to consumer, Timely response?, Consumer disputed?, Complaint ID]\n",
              "Index: []"
            ]
          },
          "metadata": {
            "tags": []
          },
          "execution_count": 7
        }
      ]
    },
    {
      "cell_type": "code",
      "metadata": {
        "id": "5KXtQa3KUnx4",
        "outputId": "e924889b-8eef-42f2-cf44-513466c7b24c",
        "colab": {
          "base_uri": "https://localhost:8080/",
          "height": 551
        }
      },
      "source": [
        "#those features which have high number of Nans values wil be removed from the dataframe\n",
        "\n",
        "missing_data=df.isnull().sum()\n",
        "missing_data[missing_data>0].\\\n",
        "sort_values(ascending=True).\\\n",
        "plot(kind='bar',figsize=(12,6),color=(0.5, 0.1, 0.5, 0.7))\n",
        "plt.title('missing value count')\n",
        "plt.show()              #only these features have issing values (9/18) tags column has the highest number of Nans\n",
        "                        #its better to remove this column than to fillna method."
      ],
      "execution_count": null,
      "outputs": [
        {
          "output_type": "display_data",
          "data": {
            "image/png": "[encoded data removed]",
            "text/plain": [
              "<Figure size 864x432 with 1 Axes>"
            ]
          },
          "metadata": {
            "tags": []
          }
        }
      ]
    },
    {
      "cell_type": "code",
      "metadata": {
        "id": "qSCp3_CPUoz4"
      },
      "source": [
        "#checking all features name to see which of them are most relevent in order to delete them from the dataframe\n",
        "\n",
        "df_removed=df.copy()         # a new dataframe created that holds only significant features.\n",
        "\n",
        "df_removed.drop(['Date received','ZIP code','Tags','Date sent to company','Complaint ID'],axis=1,inplace=True)"
      ],
      "execution_count": null,
      "outputs": []
    },
    {
      "cell_type": "code",
      "metadata": {
        "id": "6-NFRSNrUw7o",
        "outputId": "d82ac22f-ae18-4597-fa0c-6b165bca4900",
        "colab": {
          "base_uri": "https://localhost:8080/",
          "height": 260
        }
      },
      "source": [
        "# Check for the missing values in each columns. \n",
        "\n",
        "df_removed.isnull().sum()"
      ],
      "execution_count": null,
      "outputs": [
        {
          "output_type": "execute_result",
          "data": {
            "text/plain": [
              "Product                              0\n",
              "Sub-product                     198202\n",
              "Issue                                0\n",
              "Sub-issue                       400730\n",
              "Consumer complaint narrative    555894\n",
              "Company public response         525401\n",
              "Company                              0\n",
              "State                             5305\n",
              "Consumer consent provided?      462447\n",
              "Submitted via                        0\n",
              "Company response to consumer         0\n",
              "Timely response?                     0\n",
              "Consumer disputed?               41419\n",
              "dtype: int64"
            ]
          },
          "metadata": {
            "tags": []
          },
          "execution_count": 10
        }
      ]
    },
    {
      "cell_type": "code",
      "metadata": {
        "id": "3hTKc5pHU4vw",
        "outputId": "28ecf890-7871-4322-dd4c-03f61a578f6f",
        "colab": {
          "base_uri": "https://localhost:8080/",
          "height": 509
        }
      },
      "source": [
        "sns.set_style('whitegrid')\n",
        "fig, ax = plt.subplots(figsize=(12,5))\n",
        "sns.heatmap(df_removed.isnull(),yticklabels=False,cbar=False,cmap='inferno',ax=ax) \n",
        "\n",
        "#this plot shows Consumer complaint narrative and Company public response has huge number of missing data.(more than half)\n",
        "#these 2 columns need to be treated.  => deleting the rows with Nan in these 2 columns."
      ],
      "execution_count": null,
      "outputs": [
        {
          "output_type": "execute_result",
          "data": {
            "text/plain": [
              "<matplotlib.axes._subplots.AxesSubplot at 0x7f95f2fa1f98>"
            ]
          },
          "metadata": {
            "tags": []
          },
          "execution_count": 197
        },
        {
          "output_type": "display_data",
          "data": {
            "image/png": "[encoded data removed]",
            "text/plain": [
              "<Figure size 864x360 with 1 Axes>"
            ]
          },
          "metadata": {
            "tags": []
          }
        }
      ]
    },
    {
      "cell_type": "code",
      "metadata": {
        "id": "L9aTn7XnU7g-",
        "outputId": "2d1c52d9-c50c-4400-e42a-51e6bfde3ba8",
        "colab": {
          "base_uri": "https://localhost:8080/",
          "height": 131
        }
      },
      "source": [
        "# changing the features name to shorter ones\n",
        "\n",
        "df_removed.rename(columns={\"Consumer complaint narrative\": \"Complaint\" ,\n",
        "                   \"Consumer consent provided?\" : \"Consumer consent?\",\n",
        "                  \n",
        "                  }, inplace=True)\n",
        "df_removed.head(n=1)"
      ],
      "execution_count": null,
      "outputs": [
        {
          "output_type": "execute_result",
          "data": {
            "text/html": [
              "<div>\n",
              "<style scoped>\n",
              "    .dataframe tbody tr th:only-of-type {\n",
              "        vertical-align: middle;\n",
              "    }\n",
              "\n",
              "    .dataframe tbody tr th {\n",
              "        vertical-align: top;\n",
              "    }\n",
              "\n",
              "    .dataframe thead th {\n",
              "        text-align: right;\n",
              "    }\n",
              "</style>\n",
              "<table border=\"1\" class=\"dataframe\">\n",
              "  <thead>\n",
              "    <tr style=\"text-align: right;\">\n",
              "      <th></th>\n",
              "      <th>Product</th>\n",
              "      <th>Sub-product</th>\n",
              "      <th>Issue</th>\n",
              "      <th>Sub-issue</th>\n",
              "      <th>Complaint</th>\n",
              "      <th>Company public response</th>\n",
              "      <th>Company</th>\n",
              "      <th>State</th>\n",
              "      <th>Consumer consent?</th>\n",
              "      <th>Submitted via</th>\n",
              "      <th>Company response to consumer</th>\n",
              "      <th>Timely response?</th>\n",
              "      <th>Consumer disputed?</th>\n",
              "    </tr>\n",
              "  </thead>\n",
              "  <tbody>\n",
              "    <tr>\n",
              "      <th>0</th>\n",
              "      <td>Consumer Loan</td>\n",
              "      <td>Vehicle loan</td>\n",
              "      <td>Managing the loan or lease</td>\n",
              "      <td>NaN</td>\n",
              "      <td>NaN</td>\n",
              "      <td>NaN</td>\n",
              "      <td>Wells Fargo &amp; Company</td>\n",
              "      <td>VA</td>\n",
              "      <td>NaN</td>\n",
              "      <td>Phone</td>\n",
              "      <td>Closed with explanation</td>\n",
              "      <td>Yes</td>\n",
              "      <td>No</td>\n",
              "    </tr>\n",
              "  </tbody>\n",
              "</table>\n",
              "</div>"
            ],
            "text/plain": [
              "         Product   Sub-product  ... Timely response? Consumer disputed?\n",
              "0  Consumer Loan  Vehicle loan  ...              Yes                 No\n",
              "\n",
              "[1 rows x 13 columns]"
            ]
          },
          "metadata": {
            "tags": []
          },
          "execution_count": 11
        }
      ]
    },
    {
      "cell_type": "code",
      "metadata": {
        "id": "xL4IiQQoVALr",
        "outputId": "79bb5242-9a0d-4736-dee2-2f8edcebcaff",
        "colab": {
          "base_uri": "https://localhost:8080/",
          "height": 260
        }
      },
      "source": [
        "#a new data1 dataframe is created to predict product and issues from complaints\n",
        "#so i deleted those entries which have Nan complaints\n",
        "\n",
        "data1 = df_removed[df_removed['Complaint'].notna()]\n",
        "data1.shape\n",
        "data1.isnull().sum()      #to recheck if product, issues and complaints have any Nans"
      ],
      "execution_count": null,
      "outputs": [
        {
          "output_type": "execute_result",
          "data": {
            "text/plain": [
              "Product                             0\n",
              "Sub-product                     35784\n",
              "Issue                               0\n",
              "Sub-issue                       57448\n",
              "Complaint                           0\n",
              "Company public response         57417\n",
              "Company                             0\n",
              "State                             348\n",
              "Consumer consent?                   0\n",
              "Submitted via                       0\n",
              "Company response to consumer        0\n",
              "Timely response?                    0\n",
              "Consumer disputed?               8421\n",
              "dtype: int64"
            ]
          },
          "metadata": {
            "tags": []
          },
          "execution_count": 12
        }
      ]
    },
    {
      "cell_type": "code",
      "metadata": {
        "id": "fa0ylfpke57I",
        "outputId": "68e7f1f5-172f-47e2-e9b6-e76b4836379e",
        "colab": {
          "base_uri": "https://localhost:8080/",
          "height": 35
        }
      },
      "source": [
        "#to shrink the size of dataframe i am dropping every row containing na.\n",
        "data1.dropna(inplace=True,axis=0)\n",
        "\n",
        "data1.shape"
      ],
      "execution_count": null,
      "outputs": [
        {
          "output_type": "execute_result",
          "data": {
            "text/plain": [
              "(13333, 13)"
            ]
          },
          "metadata": {
            "tags": []
          },
          "execution_count": 13
        }
      ]
    },
    {
      "cell_type": "markdown",
      "metadata": {
        "id": "-40gLc7OVIb4"
      },
      "source": [
        "# product and issue classification using complaints\n"
      ]
    },
    {
      "cell_type": "code",
      "metadata": {
        "id": "4OnFbBzfVI-P",
        "outputId": "a361779c-7a5c-4408-9f00-c108413460dd",
        "colab": {
          "base_uri": "https://localhost:8080/",
          "height": 202
        }
      },
      "source": [
        "#creating a new dataframe to hold complaint texts, products and issues\n",
        "\n",
        "df_predict=pd.DataFrame(data1[\"Complaint\"]).copy()\n",
        "df_predict.rename(columns={ 0:'Complaint'}, inplace=True)\n",
        "df_predict['Product']=data1['Product']\n",
        "df_predict['Issue']=data1['Issue']\n",
        "df_predict.head()"
      ],
      "execution_count": null,
      "outputs": [
        {
          "output_type": "execute_result",
          "data": {
            "text/html": [
              "<div>\n",
              "<style scoped>\n",
              "    .dataframe tbody tr th:only-of-type {\n",
              "        vertical-align: middle;\n",
              "    }\n",
              "\n",
              "    .dataframe tbody tr th {\n",
              "        vertical-align: top;\n",
              "    }\n",
              "\n",
              "    .dataframe thead th {\n",
              "        text-align: right;\n",
              "    }\n",
              "</style>\n",
              "<table border=\"1\" class=\"dataframe\">\n",
              "  <thead>\n",
              "    <tr style=\"text-align: right;\">\n",
              "      <th></th>\n",
              "      <th>Complaint</th>\n",
              "      <th>Product</th>\n",
              "      <th>Issue</th>\n",
              "    </tr>\n",
              "  </thead>\n",
              "  <tbody>\n",
              "    <tr>\n",
              "      <th>57874</th>\n",
              "      <td>This is a continuation of a previous issue wit...</td>\n",
              "      <td>Student loan</td>\n",
              "      <td>Can't repay my loan</td>\n",
              "    </tr>\n",
              "    <tr>\n",
              "      <th>57945</th>\n",
              "      <td>I took out a Loan from Cash Central XXXX, Al f...</td>\n",
              "      <td>Payday loan</td>\n",
              "      <td>Can't stop charges to bank account</td>\n",
              "    </tr>\n",
              "    <tr>\n",
              "      <th>57988</th>\n",
              "      <td>I find this medical debt reported on my credit...</td>\n",
              "      <td>Debt collection</td>\n",
              "      <td>Cont'd attempts collect debt not owed</td>\n",
              "    </tr>\n",
              "    <tr>\n",
              "      <th>58001</th>\n",
              "      <td>I received a letter from Penn Credit Collectio...</td>\n",
              "      <td>Debt collection</td>\n",
              "      <td>False statements or representation</td>\n",
              "    </tr>\n",
              "    <tr>\n",
              "      <th>58025</th>\n",
              "      <td>This gentleman called me and asked for persona...</td>\n",
              "      <td>Debt collection</td>\n",
              "      <td>Communication tactics</td>\n",
              "    </tr>\n",
              "  </tbody>\n",
              "</table>\n",
              "</div>"
            ],
            "text/plain": [
              "                                               Complaint  ...                                  Issue\n",
              "57874  This is a continuation of a previous issue wit...  ...                    Can't repay my loan\n",
              "57945  I took out a Loan from Cash Central XXXX, Al f...  ...     Can't stop charges to bank account\n",
              "57988  I find this medical debt reported on my credit...  ...  Cont'd attempts collect debt not owed\n",
              "58001  I received a letter from Penn Credit Collectio...  ...     False statements or representation\n",
              "58025  This gentleman called me and asked for persona...  ...                  Communication tactics\n",
              "\n",
              "[5 rows x 3 columns]"
            ]
          },
          "metadata": {
            "tags": []
          },
          "execution_count": 14
        }
      ]
    },
    {
      "cell_type": "markdown",
      "metadata": {
        "id": "eXsawRYtVQt6"
      },
      "source": [
        "# text Cleaning"
      ]
    },
    {
      "cell_type": "code",
      "metadata": {
        "id": "txOtFOJ8VRZ9"
      },
      "source": [
        "import warnings\n",
        "warnings.filterwarnings('ignore')\n",
        "#importing nltk package\n",
        "import nltk\n",
        "nltk.download('punkt')"
      ],
      "execution_count": null,
      "outputs": []
    },
    {
      "cell_type": "code",
      "metadata": {
        "id": "c-vqD-s7VV5r",
        "outputId": "7a5e3a95-2e03-40bb-fe5f-efc4e34792ec",
        "colab": {
          "base_uri": "https://localhost:8080/",
          "height": 202
        }
      },
      "source": [
        "#converting the whole text into lower case for uniformity\n",
        "\n",
        "import string\n",
        "df_predict['Complaint'] = [doc.lower() for doc in df_predict['Complaint']]\n",
        "df_predict.head()              "
      ],
      "execution_count": null,
      "outputs": [
        {
          "output_type": "execute_result",
          "data": {
            "text/html": [
              "<div>\n",
              "<style scoped>\n",
              "    .dataframe tbody tr th:only-of-type {\n",
              "        vertical-align: middle;\n",
              "    }\n",
              "\n",
              "    .dataframe tbody tr th {\n",
              "        vertical-align: top;\n",
              "    }\n",
              "\n",
              "    .dataframe thead th {\n",
              "        text-align: right;\n",
              "    }\n",
              "</style>\n",
              "<table border=\"1\" class=\"dataframe\">\n",
              "  <thead>\n",
              "    <tr style=\"text-align: right;\">\n",
              "      <th></th>\n",
              "      <th>Complaint</th>\n",
              "      <th>Product</th>\n",
              "      <th>Issue</th>\n",
              "    </tr>\n",
              "  </thead>\n",
              "  <tbody>\n",
              "    <tr>\n",
              "      <th>57874</th>\n",
              "      <td>this is a continuation of a previous issue wit...</td>\n",
              "      <td>Student loan</td>\n",
              "      <td>Can't repay my loan</td>\n",
              "    </tr>\n",
              "    <tr>\n",
              "      <th>57945</th>\n",
              "      <td>i took out a loan from cash central xxxx, al f...</td>\n",
              "      <td>Payday loan</td>\n",
              "      <td>Can't stop charges to bank account</td>\n",
              "    </tr>\n",
              "    <tr>\n",
              "      <th>57988</th>\n",
              "      <td>i find this medical debt reported on my credit...</td>\n",
              "      <td>Debt collection</td>\n",
              "      <td>Cont'd attempts collect debt not owed</td>\n",
              "    </tr>\n",
              "    <tr>\n",
              "      <th>58001</th>\n",
              "      <td>i received a letter from penn credit collectio...</td>\n",
              "      <td>Debt collection</td>\n",
              "      <td>False statements or representation</td>\n",
              "    </tr>\n",
              "    <tr>\n",
              "      <th>58025</th>\n",
              "      <td>this gentleman called me and asked for persona...</td>\n",
              "      <td>Debt collection</td>\n",
              "      <td>Communication tactics</td>\n",
              "    </tr>\n",
              "  </tbody>\n",
              "</table>\n",
              "</div>"
            ],
            "text/plain": [
              "                                               Complaint  ...                                  Issue\n",
              "57874  this is a continuation of a previous issue wit...  ...                    Can't repay my loan\n",
              "57945  i took out a loan from cash central xxxx, al f...  ...     Can't stop charges to bank account\n",
              "57988  i find this medical debt reported on my credit...  ...  Cont'd attempts collect debt not owed\n",
              "58001  i received a letter from penn credit collectio...  ...     False statements or representation\n",
              "58025  this gentleman called me and asked for persona...  ...                  Communication tactics\n",
              "\n",
              "[5 rows x 3 columns]"
            ]
          },
          "metadata": {
            "tags": []
          },
          "execution_count": 17
        }
      ]
    },
    {
      "cell_type": "code",
      "metadata": {
        "id": "oNL9xDdTVYoo",
        "outputId": "ad3108eb-caf5-4706-8d08-6ce33067e9f5",
        "colab": {
          "base_uri": "https://localhost:8080/",
          "height": 110
        }
      },
      "source": [
        "# word tokenize, a new feature is added in the df_predict to store the tokenized words w.r.t the complaints. \n",
        "\n",
        "from nltk.tokenize import word_tokenize\n",
        "\n",
        "df_predict['Complaint_tokenize']=df_predict['Complaint']\n",
        "for i in range(df_predict.shape[0]):\n",
        "    df_predict['Complaint_tokenize'].iloc[i]=word_tokenize(df_predict['Complaint_tokenize'].iloc[i])\n",
        "\n",
        "df_predict.head(n=2)"
      ],
      "execution_count": null,
      "outputs": [
        {
          "output_type": "execute_result",
          "data": {
            "text/html": [
              "<div>\n",
              "<style scoped>\n",
              "    .dataframe tbody tr th:only-of-type {\n",
              "        vertical-align: middle;\n",
              "    }\n",
              "\n",
              "    .dataframe tbody tr th {\n",
              "        vertical-align: top;\n",
              "    }\n",
              "\n",
              "    .dataframe thead th {\n",
              "        text-align: right;\n",
              "    }\n",
              "</style>\n",
              "<table border=\"1\" class=\"dataframe\">\n",
              "  <thead>\n",
              "    <tr style=\"text-align: right;\">\n",
              "      <th></th>\n",
              "      <th>Complaint</th>\n",
              "      <th>Product</th>\n",
              "      <th>Issue</th>\n",
              "      <th>Complaint_tokenize</th>\n",
              "    </tr>\n",
              "  </thead>\n",
              "  <tbody>\n",
              "    <tr>\n",
              "      <th>57874</th>\n",
              "      <td>this is a continuation of a previous issue wit...</td>\n",
              "      <td>Student loan</td>\n",
              "      <td>Can't repay my loan</td>\n",
              "      <td>[this, is, a, continuation, of, a, previous, i...</td>\n",
              "    </tr>\n",
              "    <tr>\n",
              "      <th>57945</th>\n",
              "      <td>i took out a loan from cash central xxxx, al f...</td>\n",
              "      <td>Payday loan</td>\n",
              "      <td>Can't stop charges to bank account</td>\n",
              "      <td>[i, took, out, a, loan, from, cash, central, x...</td>\n",
              "    </tr>\n",
              "  </tbody>\n",
              "</table>\n",
              "</div>"
            ],
            "text/plain": [
              "                                               Complaint  ...                                 Complaint_tokenize\n",
              "57874  this is a continuation of a previous issue wit...  ...  [this, is, a, continuation, of, a, previous, i...\n",
              "57945  i took out a loan from cash central xxxx, al f...  ...  [i, took, out, a, loan, from, cash, central, x...\n",
              "\n",
              "[2 rows x 4 columns]"
            ]
          },
          "metadata": {
            "tags": []
          },
          "execution_count": 18
        }
      ]
    },
    {
      "cell_type": "code",
      "metadata": {
        "id": "5iLQ9P92W6_I"
      },
      "source": [
        "import re\n",
        "from nltk.tokenize import word_tokenize\n",
        "regex = re.compile('[%s]' % re.escape(string.punctuation))  #regular expression to eleminate punctuations from the text.\n",
        "\n",
        "#Removing punctuations like ,'; . _ # ! from the complaint texts to make them regular.\n",
        "\n",
        "for i in range(df_predict.shape[0]):\n",
        "  tokens=df_predict['Complaint_tokenize'].iloc[i]\n",
        "  words = [word for word in tokens if word.isalpha()]\n",
        "  df_predict['Complaint_tokenize'].iloc[i]=words\n"
      ],
      "execution_count": null,
      "outputs": []
    },
    {
      "cell_type": "code",
      "metadata": {
        "id": "jPndo1KjgV7z",
        "outputId": "128983e7-4ed6-4385-da79-33685258f851",
        "colab": {
          "base_uri": "https://localhost:8080/",
          "height": 52
        }
      },
      "source": [
        "# removing stop words from the complaints like i, am , is, are, myself they occur in abundance in almost every entries and\n",
        "#provide no relevent information to the training model.\n",
        "\n",
        "import nltk\n",
        "from nltk.corpus import stopwords\n",
        "\n",
        "nltk.download('stopwords')\n",
        "stop_words = set(stopwords.words('english'))\n",
        "\n",
        "for i in range(df_predict.shape[0]):\n",
        "  token=df_predict['Complaint_tokenize'].iloc[i]\n",
        "  token = [w for w in token if not w in stop_words]\n",
        "  df_predict['Complaint_tokenize'].iloc[i]=token\n"
      ],
      "execution_count": null,
      "outputs": [
        {
          "output_type": "stream",
          "text": [
            "[nltk_data] Downloading package stopwords to /root/nltk_data...\n",
            "[nltk_data]   Unzipping corpora/stopwords.zip.\n"
          ],
          "name": "stdout"
        }
      ]
    },
    {
      "cell_type": "code",
      "metadata": {
        "id": "0hCA8yDRhBB7",
        "outputId": "c907fc03-03f8-4084-dc88-a87ac3a6a02e",
        "colab": {
          "base_uri": "https://localhost:8080/",
          "height": 175
        }
      },
      "source": [
        "#here in this cell i am applying lemmatizing technique to bring the tokenized words into the original first form words in order to\n",
        "# to reduce the noise in data. \n",
        "\n",
        "import nltk\n",
        "nltk.download('wordnet')\n",
        "\n",
        "from nltk.stem import WordNetLemmatizer \n",
        "lemmatizer = WordNetLemmatizer()\n",
        "\n",
        "for i in range(df_predict.shape[0]):\n",
        "  stem=df_predict['Complaint_tokenize'].iloc[i]\n",
        "  lema= [lemmatizer.lemmatize(word) for word in stem]\n",
        "  df_predict['Complaint_tokenize'].iloc[i]=lema\n",
        "\n",
        "df_predict.head(n=3)\n",
        "  \n"
      ],
      "execution_count": null,
      "outputs": [
        {
          "output_type": "stream",
          "text": [
            "[nltk_data] Downloading package wordnet to /root/nltk_data...\n",
            "[nltk_data]   Unzipping corpora/wordnet.zip.\n"
          ],
          "name": "stdout"
        },
        {
          "output_type": "execute_result",
          "data": {
            "text/html": [
              "<div>\n",
              "<style scoped>\n",
              "    .dataframe tbody tr th:only-of-type {\n",
              "        vertical-align: middle;\n",
              "    }\n",
              "\n",
              "    .dataframe tbody tr th {\n",
              "        vertical-align: top;\n",
              "    }\n",
              "\n",
              "    .dataframe thead th {\n",
              "        text-align: right;\n",
              "    }\n",
              "</style>\n",
              "<table border=\"1\" class=\"dataframe\">\n",
              "  <thead>\n",
              "    <tr style=\"text-align: right;\">\n",
              "      <th></th>\n",
              "      <th>Complaint</th>\n",
              "      <th>Product</th>\n",
              "      <th>Issue</th>\n",
              "      <th>Complaint_tokenize</th>\n",
              "    </tr>\n",
              "  </thead>\n",
              "  <tbody>\n",
              "    <tr>\n",
              "      <th>57874</th>\n",
              "      <td>this is a continuation of a previous issue wit...</td>\n",
              "      <td>Student loan</td>\n",
              "      <td>Can't repay my loan</td>\n",
              "      <td>[continuation, previous, issue, citibank, reac...</td>\n",
              "    </tr>\n",
              "    <tr>\n",
              "      <th>57945</th>\n",
              "      <td>i took out a loan from cash central xxxx, al f...</td>\n",
              "      <td>Payday loan</td>\n",
              "      <td>Can't stop charges to bank account</td>\n",
              "      <td>[took, loan, cash, central, xxxx, al, sense, t...</td>\n",
              "    </tr>\n",
              "    <tr>\n",
              "      <th>57988</th>\n",
              "      <td>i find this medical debt reported on my credit...</td>\n",
              "      <td>Debt collection</td>\n",
              "      <td>Cont'd attempts collect debt not owed</td>\n",
              "      <td>[find, medical, debt, reported, credit, report...</td>\n",
              "    </tr>\n",
              "  </tbody>\n",
              "</table>\n",
              "</div>"
            ],
            "text/plain": [
              "                                               Complaint  ...                                 Complaint_tokenize\n",
              "57874  this is a continuation of a previous issue wit...  ...  [continuation, previous, issue, citibank, reac...\n",
              "57945  i took out a loan from cash central xxxx, al f...  ...  [took, loan, cash, central, xxxx, al, sense, t...\n",
              "57988  i find this medical debt reported on my credit...  ...  [find, medical, debt, reported, credit, report...\n",
              "\n",
              "[3 rows x 4 columns]"
            ]
          },
          "metadata": {
            "tags": []
          },
          "execution_count": 25
        }
      ]
    },
    {
      "cell_type": "markdown",
      "metadata": {
        "id": "1IKm0mTrl02Q"
      },
      "source": [
        "# training the model"
      ]
    },
    {
      "cell_type": "code",
      "metadata": {
        "id": "ijkhbmamw8di"
      },
      "source": [
        "# Now as Complaint_tokenize contains the seperated words after applying text cleaning\n",
        "#to pass them through count vectorization and Tdif vectorization, I am combining the words of the df_predict['Complaint_tokenize'] into \n",
        "#single paragraph\n",
        "\n",
        "for i in range(df_predict.shape[0]):\n",
        "  temp=df_predict['Complaint_tokenize'].iloc[i]\n",
        "  temp=' '.join(temp)\n",
        "  df_predict['Complaint_tokenize'].iloc[i]=temp\n"
      ],
      "execution_count": null,
      "outputs": []
    },
    {
      "cell_type": "code",
      "metadata": {
        "id": "5SpI1fVNmfwQ"
      },
      "source": [
        "#importing important libraries \n",
        "\n",
        "from sklearn.feature_extraction.text import TfidfVectorizer\n",
        "from sklearn.feature_extraction.text import CountVectorizer\n",
        "\n",
        "from sklearn.naive_bayes import MultinomialNB\n"
      ],
      "execution_count": null,
      "outputs": []
    },
    {
      "cell_type": "markdown",
      "metadata": {
        "id": "zUVzut9LGp3K"
      },
      "source": [
        "# dataset splitting"
      ]
    },
    {
      "cell_type": "markdown",
      "metadata": {
        "id": "2Tw_VpxVJ9nU"
      },
      "source": [
        "Product prediction"
      ]
    },
    {
      "cell_type": "code",
      "metadata": {
        "id": "JdlFjTFeIThP",
        "outputId": "c28eb971-12a2-4e00-89da-926cc9ce9762",
        "colab": {
          "base_uri": "https://localhost:8080/",
          "height": 411
        }
      },
      "source": [
        "#lets have a look on number of unique product and their count in the dataset\n",
        "plt.figure(figsize=(10,6))\n",
        "sns.countplot(x = df_predict['Product'],data = df_predict)                #the dataset contains three categories of product\n",
        "                                                                          #most of them are Debt Collection"
      ],
      "execution_count": null,
      "outputs": [
        {
          "output_type": "execute_result",
          "data": {
            "text/plain": [
              "<matplotlib.axes._subplots.AxesSubplot at 0x7f95ef213860>"
            ]
          },
          "metadata": {
            "tags": []
          },
          "execution_count": 29
        },
        {
          "output_type": "display_data",
          "data": {
            "image/png": "[encoded data removed]",
            "text/plain": [
              "<Figure size 720x432 with 1 Axes>"
            ]
          },
          "metadata": {
            "tags": []
          }
        }
      ]
    },
    {
      "cell_type": "code",
      "metadata": {
        "id": "M4PMndo4Gud-"
      },
      "source": [
        "#here I am splitting the dataset into 70-30 ratio by using the  test_size=0.30\n",
        "\n",
        "from sklearn.model_selection import train_test_split \n",
        "x=df_predict['Complaint_tokenize']\n",
        "y=df_predict['Product']\n",
        "X_train, X_test, y_train, y_test = train_test_split(x, y, test_size=0.30, random_state=42)"
      ],
      "execution_count": null,
      "outputs": []
    },
    {
      "cell_type": "code",
      "metadata": {
        "id": "1Q3rjmDWGT2D"
      },
      "source": [
        "#I have implemented the pipeline to combine the different steps of tdif vectorization and model training.\n",
        "# i have used mutlionomial naive bayes classification for model training\n",
        "from sklearn.pipeline import Pipeline\n",
        "product_clf = Pipeline([('vect', TfidfVectorizer()), \n",
        "                      ('clf', MultinomialNB()) ])\n",
        "\n",
        "product_clf .fit(X_train, y_train)"
      ],
      "execution_count": null,
      "outputs": []
    },
    {
      "cell_type": "code",
      "metadata": {
        "id": "Fx4zqEa6ILsL"
      },
      "source": [
        "#the pipeline function has done most of the part, only thing left is to transform and predict the products through test data.\n",
        "\n",
        "predicted_product = product_clf.predict(X_test)"
      ],
      "execution_count": null,
      "outputs": []
    },
    {
      "cell_type": "code",
      "metadata": {
        "id": "IHSokmu0JQBJ",
        "outputId": "aaf8075f-26cc-4cd7-e23b-55bd8111342b",
        "colab": {
          "base_uri": "https://localhost:8080/",
          "height": 304
        }
      },
      "source": [
        "#evaluating the performance of product prediction model from accuracy and confusion matrix.\n",
        "\n",
        "from sklearn.metrics import confusion_matrix\n",
        "from sklearn.metrics import accuracy_score                        \n",
        "\n",
        "print('Accuracy achieved is ' + str(np.mean(predicted_product== y_test)))\n",
        "\n",
        "p_matrix = confusion_matrix(y_test, predicted_product)                 #The accuracy is 89.2% which proves it to be a good fit.\n",
        "                                                                       #the prediction is quite accurate as we can see TP has the highest count.\n",
        "sns.heatmap(p_matrix, annot=True, fmt='.1%', cmap='Blues')             #true positive = 3546\n",
        "                                                                       #False positive rate = 23"
      ],
      "execution_count": null,
      "outputs": [
        {
          "output_type": "stream",
          "text": [
            "Accuracy achieved is 0.89225\n"
          ],
          "name": "stdout"
        },
        {
          "output_type": "execute_result",
          "data": {
            "text/plain": [
              "<matplotlib.axes._subplots.AxesSubplot at 0x7f95ef543160>"
            ]
          },
          "metadata": {
            "tags": []
          },
          "execution_count": 35
        },
        {
          "output_type": "display_data",
          "data": {
            "image/png": "[encoded data removed]",
            "text/plain": [
              "<Figure size 432x288 with 2 Axes>"
            ]
          },
          "metadata": {
            "tags": []
          }
        }
      ]
    },
    {
      "cell_type": "markdown",
      "metadata": {
        "id": "HRtWMypSKFmV"
      },
      "source": [
        "Issue Prediction"
      ]
    },
    {
      "cell_type": "code",
      "metadata": {
        "id": "t66mNLqE_wqt"
      },
      "source": [
        "#similaryly i have taken the same test size in issue prediction as well \n",
        "#the only difference here is the target label which is Issue\n",
        "\n",
        "x=df_predict['Complaint']\n",
        "y=df_predict['Issue']\n",
        "X_train, X_test, y_train, y_test = train_test_split(x, y, test_size=0.30, random_state=42)\n",
        "\n",
        "\n",
        "# i am using the same method to predict it\n",
        "\n",
        "Issue_clf = Pipeline([('vect', TfidfVectorizer()), \n",
        "                      ('clf', MultinomialNB()) ])\n",
        "Issue_clf.fit(X_train, y_train)"
      ],
      "execution_count": null,
      "outputs": []
    },
    {
      "cell_type": "code",
      "metadata": {
        "id": "-ftOFiKOKjKZ"
      },
      "source": [
        "predicted_Issue = Issue_clf.predict(X_test)"
      ],
      "execution_count": null,
      "outputs": []
    },
    {
      "cell_type": "code",
      "metadata": {
        "id": "I7GLtxaLKx0s",
        "outputId": "b2376fb3-3b13-4314-e507-eb426a01a771",
        "colab": {
          "base_uri": "https://localhost:8080/",
          "height": 35
        }
      },
      "source": [
        "#Evaluating the performance = > originally the accuracy of issue prediction model is 40% \n",
        "\n",
        "print('Accuracy achieved is ' + str(np.mean(predicted_Issue== y_test)))"
      ],
      "execution_count": null,
      "outputs": [
        {
          "output_type": "stream",
          "text": [
            "Accuracy achieved is 0.4015\n"
          ],
          "name": "stdout"
        }
      ]
    },
    {
      "cell_type": "code",
      "metadata": {
        "id": "e8MV3lgaT5OM"
      },
      "source": [
        "#checking the accuracy of normalized Complaints including removal of stop words and punctuation, tokenization, lemmatizing and stemming\n",
        "\n",
        "x=df_predict['Complaint_tokenize']\n",
        "y=df_predict['Issue']\n",
        "X_train, X_test, y_train, y_test = train_test_split(x, y, test_size=0.30, random_state=42)\n",
        "Issue_clf = Pipeline([('vect', TfidfVectorizer()), \n",
        "                      ('clf', MultinomialNB()) ])\n",
        "\n",
        "Issue_clf.fit(X_train, y_train)"
      ],
      "execution_count": null,
      "outputs": []
    },
    {
      "cell_type": "code",
      "metadata": {
        "id": "Q782t3bsZaI5",
        "outputId": "8db5286d-4aa2-442f-e38a-c8a8fd27ab41",
        "colab": {
          "base_uri": "https://localhost:8080/",
          "height": 35
        }
      },
      "source": [
        "predicted_Issue = Issue_clf.predict(X_test)              #accuracy has improved to 1%\n",
        "print('Accuracy achieved is ' + str(np.mean(predicted_Issue== y_test)))"
      ],
      "execution_count": null,
      "outputs": [
        {
          "output_type": "stream",
          "text": [
            "Accuracy achieved is 0.406\n"
          ],
          "name": "stdout"
        }
      ]
    },
    {
      "cell_type": "code",
      "metadata": {
        "id": "l6niy-j-InmA",
        "outputId": "a990d5e6-7ff1-427e-bd46-52f143c2f672",
        "colab": {
          "base_uri": "https://localhost:8080/",
          "height": 411
        }
      },
      "source": [
        "#finding out the different values of issue and their counts\n",
        "\n",
        "plt.figure(figsize=(15,6))\n",
        "sns.countplot(y= df_predict['Issue'],data = df_predict)\n",
        "                                                                #it can be seen that there is a great variation, some of them barely \n",
        "                                                                #possess a dominent positon in the graph"
      ],
      "execution_count": null,
      "outputs": [
        {
          "output_type": "execute_result",
          "data": {
            "text/plain": [
              "<matplotlib.axes._subplots.AxesSubplot at 0x7f95f0129710>"
            ]
          },
          "metadata": {
            "tags": []
          },
          "execution_count": 42
        },
        {
          "output_type": "display_data",
          "data": {
            "image/png": "[encoded data removed]",
            "text/plain": [
              "<Figure size 1080x432 with 1 Axes>"
            ]
          },
          "metadata": {
            "tags": []
          }
        }
      ]
    },
    {
      "cell_type": "code",
      "metadata": {
        "id": "1lCZWaa5Zlx5",
        "outputId": "88b85f01-6a58-46ad-9118-3bc1b1f0e815",
        "colab": {
          "base_uri": "https://localhost:8080/",
          "height": 243
        }
      },
      "source": [
        "#trying other optimzation techniques to increase the accuracy.\n",
        "\n",
        "#here i printed the most common issue in the dataset. i would be deleting the least frequncy issues\n",
        "#so that the model fits the dataset well. \n",
        "\n",
        "print(df_predict.groupby(['Issue']).count().sort_values(\"Complaint\", ascending=False).head(),\"\\n\")\n",
        "dummy=df_predict.groupby(['Issue']).count().sort_values(\"Complaint\", ascending=True).tail().index     #fetching the least occurence 5 categories.\n",
        "dummy                #a new variable holding least occurence issues."
      ],
      "execution_count": null,
      "outputs": [
        {
          "output_type": "stream",
          "text": [
            "                                       Complaint  Product  Complaint_tokenize\n",
            "Issue                                                                        \n",
            "Cont'd attempts collect debt not owed       5240     5240                5240\n",
            "Disclosure verification of debt             2186     2186                2186\n",
            "Communication tactics                       1706     1706                1706\n",
            "False statements or representation          1094     1094                1094\n",
            "Improper contact or sharing of info          808      808                 808 \n",
            "\n"
          ],
          "name": "stdout"
        },
        {
          "output_type": "execute_result",
          "data": {
            "text/plain": [
              "Index(['Improper contact or sharing of info',\n",
              "       'False statements or representation', 'Communication tactics',\n",
              "       'Disclosure verification of debt',\n",
              "       'Cont'd attempts collect debt not owed'],\n",
              "      dtype='object', name='Issue')"
            ]
          },
          "metadata": {
            "tags": []
          },
          "execution_count": 43
        }
      ]
    },
    {
      "cell_type": "code",
      "metadata": {
        "id": "bIK2YtP-ab6a",
        "outputId": "5f47ac67-13fb-4245-81ed-eefe57dfd046",
        "colab": {
          "base_uri": "https://localhost:8080/",
          "height": 35
        }
      },
      "source": [
        "#creating a new dataframe to deal with this occurence issue\n",
        "\n",
        "df_predict_modified=pd.DataFrame(df_predict['Issue']).copy()\n",
        "df_predict_modified['Complaint_tokenize']=df_predict['Complaint_tokenize']                \n",
        "df_predict_modified.rename(columns={ 0:'Issue'}, inplace=True)\n",
        "#df_predict_modified.set_index(\"Issue\",inplace=True)\n",
        "df_predict_modified.shape"
      ],
      "execution_count": null,
      "outputs": [
        {
          "output_type": "execute_result",
          "data": {
            "text/plain": [
              "(13333, 2)"
            ]
          },
          "metadata": {
            "tags": []
          },
          "execution_count": 44
        }
      ]
    },
    {
      "cell_type": "code",
      "metadata": {
        "id": "2ajwtUFVh0Vi"
      },
      "source": [
        "#here i am deleting those rows which have least occurence issue as output.\n",
        "\n",
        "data2 = df_predict_modified[~df_predict_modified['Issue'].isin(dummy)]\n"
      ],
      "execution_count": null,
      "outputs": []
    },
    {
      "cell_type": "code",
      "metadata": {
        "id": "R_e3FrhOkC_I"
      },
      "source": [
        "#training the new dataframe with the same method as before.\n",
        "\n",
        "x=data2['Complaint_tokenize']\n",
        "y=data2['Issue']\n",
        "X_train, X_test, y_train, y_test = train_test_split(x, y, test_size=0.30, random_state=42)"
      ],
      "execution_count": null,
      "outputs": []
    },
    {
      "cell_type": "code",
      "metadata": {
        "id": "R9s0Qz10mtd6"
      },
      "source": [
        "data2.astype('U')                       #converting the datatype.\n",
        "data2['Complaint_tokenize'].astype('U')"
      ],
      "execution_count": null,
      "outputs": []
    },
    {
      "cell_type": "code",
      "metadata": {
        "id": "x6BZL4bdl5Eo"
      },
      "source": [
        "Issue_clf11 = Pipeline([('vect', TfidfVectorizer()), \n",
        "                      ('clf', MultinomialNB()) ])\n",
        "Issue_clf11.fit(X_train, y_train)"
      ],
      "execution_count": null,
      "outputs": []
    },
    {
      "cell_type": "code",
      "metadata": {
        "id": "lnV42VYZ8uCz",
        "outputId": "68235ca2-c4d6-4e04-916b-928b0bbdca76",
        "colab": {
          "base_uri": "https://localhost:8080/",
          "height": 35
        }
      },
      "source": [
        "predicted_Issue = Issue_clf11.predict(X_test)              #the accuracy has increased upto 18%.\n",
        "print('Accuracy achieved is ' + str(np.mean(predicted_Issue== y_test)))                                              "
      ],
      "execution_count": null,
      "outputs": [
        {
          "output_type": "stream",
          "text": [
            "Accuracy achieved is 0.5811594202898551\n"
          ],
          "name": "stdout"
        }
      ]
    },
    {
      "cell_type": "markdown",
      "metadata": {
        "id": "mQJwCcRGGGPL"
      },
      "source": [
        "## Normalize Country Names"
      ]
    },
    {
      "cell_type": "code",
      "metadata": {
        "id": "lyxxBS9tGMt3"
      },
      "source": [
        "#creating a new df => company to normalize it \n",
        "company=pd.DataFrame(data1['Company'].copy())"
      ],
      "execution_count": null,
      "outputs": []
    },
    {
      "cell_type": "code",
      "metadata": {
        "id": "BlIvl7QkKdfQ",
        "outputId": "35a59c80-e236-4a3e-d9c4-c60864539c21",
        "colab": {
          "base_uri": "https://localhost:8080/",
          "height": 110
        }
      },
      "source": [
        "#1) converting it into lower case\n",
        "company['Company'] = [doc.lower() for doc in company['Company']]\n",
        "company.head(n=2)"
      ],
      "execution_count": null,
      "outputs": [
        {
          "output_type": "execute_result",
          "data": {
            "text/html": [
              "<div>\n",
              "<style scoped>\n",
              "    .dataframe tbody tr th:only-of-type {\n",
              "        vertical-align: middle;\n",
              "    }\n",
              "\n",
              "    .dataframe tbody tr th {\n",
              "        vertical-align: top;\n",
              "    }\n",
              "\n",
              "    .dataframe thead th {\n",
              "        text-align: right;\n",
              "    }\n",
              "</style>\n",
              "<table border=\"1\" class=\"dataframe\">\n",
              "  <thead>\n",
              "    <tr style=\"text-align: right;\">\n",
              "      <th></th>\n",
              "      <th>Company</th>\n",
              "    </tr>\n",
              "  </thead>\n",
              "  <tbody>\n",
              "    <tr>\n",
              "      <th>57874</th>\n",
              "      <td>citibank</td>\n",
              "    </tr>\n",
              "    <tr>\n",
              "      <th>57945</th>\n",
              "      <td>community choice financial, inc.</td>\n",
              "    </tr>\n",
              "  </tbody>\n",
              "</table>\n",
              "</div>"
            ],
            "text/plain": [
              "                                Company\n",
              "57874                          citibank\n",
              "57945  community choice financial, inc."
            ]
          },
          "metadata": {
            "tags": []
          },
          "execution_count": 52
        }
      ]
    },
    {
      "cell_type": "code",
      "metadata": {
        "id": "lig8kaESLV9p",
        "outputId": "f10679f9-4577-4739-81e1-d9696d0b004d",
        "colab": {
          "base_uri": "https://localhost:8080/",
          "height": 110
        }
      },
      "source": [
        "#2)Word tokenization\n",
        "from nltk.tokenize import word_tokenize\n",
        "\n",
        "company['tokenized_company'] = [word_tokenize(doc) for doc in company['Company']]\n",
        "company.head(n=2)"
      ],
      "execution_count": null,
      "outputs": [
        {
          "output_type": "execute_result",
          "data": {
            "text/html": [
              "<div>\n",
              "<style scoped>\n",
              "    .dataframe tbody tr th:only-of-type {\n",
              "        vertical-align: middle;\n",
              "    }\n",
              "\n",
              "    .dataframe tbody tr th {\n",
              "        vertical-align: top;\n",
              "    }\n",
              "\n",
              "    .dataframe thead th {\n",
              "        text-align: right;\n",
              "    }\n",
              "</style>\n",
              "<table border=\"1\" class=\"dataframe\">\n",
              "  <thead>\n",
              "    <tr style=\"text-align: right;\">\n",
              "      <th></th>\n",
              "      <th>Company</th>\n",
              "      <th>tokenized_company</th>\n",
              "    </tr>\n",
              "  </thead>\n",
              "  <tbody>\n",
              "    <tr>\n",
              "      <th>57874</th>\n",
              "      <td>citibank</td>\n",
              "      <td>[citibank]</td>\n",
              "    </tr>\n",
              "    <tr>\n",
              "      <th>57945</th>\n",
              "      <td>community choice financial, inc.</td>\n",
              "      <td>[community, choice, financial, ,, inc, .]</td>\n",
              "    </tr>\n",
              "  </tbody>\n",
              "</table>\n",
              "</div>"
            ],
            "text/plain": [
              "                                Company                          tokenized_company\n",
              "57874                          citibank                                 [citibank]\n",
              "57945  community choice financial, inc.  [community, choice, financial, ,, inc, .]"
            ]
          },
          "metadata": {
            "tags": []
          },
          "execution_count": 53
        }
      ]
    },
    {
      "cell_type": "code",
      "metadata": {
        "id": "zqrPZb_mNc2q"
      },
      "source": [
        "#3) Removing punctuations ,'; . _ # ! from the company texts\n",
        "\n",
        "for i in range(company.shape[0]):\n",
        "  tokens=company['tokenized_company'].iloc[i]\n",
        "  words = [word for word in tokens if word.isalpha()]\n",
        "  company['tokenized_company'].iloc[i]=words\n",
        "\n",
        "company.head(n=2)                                                   \n",
        "\n",
        "#there is no need to apply stopword removal technique and lemmatization as it is a proper noun."
      ],
      "execution_count": null,
      "outputs": []
    },
    {
      "cell_type": "code",
      "metadata": {
        "id": "dcoBmiFIP1XN"
      },
      "source": [
        "# now replaing tokenized company with company name.\n",
        "for i in range(company.shape[0]):\n",
        "  temp=company['tokenized_company'].iloc[i]\n",
        "  temp=' '.join(temp)\n",
        "  company['Company'].iloc[i]=temp\n",
        "\n",
        "data1['Company']=company['Company']         #replaced with original dataframe"
      ],
      "execution_count": null,
      "outputs": []
    },
    {
      "cell_type": "markdown",
      "metadata": {
        "id": "w_rw4_IKO3_4"
      },
      "source": [
        "# Predicting unresolved Complaints "
      ]
    },
    {
      "cell_type": "code",
      "metadata": {
        "id": "AGVu3BBsO_G9",
        "outputId": "1b7f3905-2948-470e-d85b-fb68d327991d",
        "colab": {
          "base_uri": "https://localhost:8080/",
          "height": 401
        }
      },
      "source": [
        "data1.head(n=3)     # => deleting the non relevent data"
      ],
      "execution_count": null,
      "outputs": [
        {
          "output_type": "execute_result",
          "data": {
            "text/html": [
              "<div>\n",
              "<style scoped>\n",
              "    .dataframe tbody tr th:only-of-type {\n",
              "        vertical-align: middle;\n",
              "    }\n",
              "\n",
              "    .dataframe tbody tr th {\n",
              "        vertical-align: top;\n",
              "    }\n",
              "\n",
              "    .dataframe thead th {\n",
              "        text-align: right;\n",
              "    }\n",
              "</style>\n",
              "<table border=\"1\" class=\"dataframe\">\n",
              "  <thead>\n",
              "    <tr style=\"text-align: right;\">\n",
              "      <th></th>\n",
              "      <th>Product</th>\n",
              "      <th>Sub-product</th>\n",
              "      <th>Issue</th>\n",
              "      <th>Sub-issue</th>\n",
              "      <th>Complaint</th>\n",
              "      <th>Company public response</th>\n",
              "      <th>Company</th>\n",
              "      <th>State</th>\n",
              "      <th>Consumer consent?</th>\n",
              "      <th>Submitted via</th>\n",
              "      <th>Company response to consumer</th>\n",
              "      <th>Timely response?</th>\n",
              "      <th>Consumer disputed?</th>\n",
              "    </tr>\n",
              "  </thead>\n",
              "  <tbody>\n",
              "    <tr>\n",
              "      <th>57874</th>\n",
              "      <td>Student loan</td>\n",
              "      <td>Non-federal student loan</td>\n",
              "      <td>Can't repay my loan</td>\n",
              "      <td>Can't decrease my monthly payments</td>\n",
              "      <td>This is a continuation of a previous issue wit...</td>\n",
              "      <td>Company chooses not to provide a public response</td>\n",
              "      <td>citibank</td>\n",
              "      <td>SC</td>\n",
              "      <td>Consent provided</td>\n",
              "      <td>Web</td>\n",
              "      <td>Closed with explanation</td>\n",
              "      <td>Yes</td>\n",
              "      <td>No</td>\n",
              "    </tr>\n",
              "    <tr>\n",
              "      <th>57945</th>\n",
              "      <td>Payday loan</td>\n",
              "      <td>Payday loan</td>\n",
              "      <td>Can't stop charges to bank account</td>\n",
              "      <td>Can't stop charges to bank account</td>\n",
              "      <td>I took out a Loan from Cash Central XXXX, Al f...</td>\n",
              "      <td>Company chooses not to provide a public response</td>\n",
              "      <td>community choice financial inc</td>\n",
              "      <td>AL</td>\n",
              "      <td>Consent provided</td>\n",
              "      <td>Web</td>\n",
              "      <td>Closed with explanation</td>\n",
              "      <td>Yes</td>\n",
              "      <td>No</td>\n",
              "    </tr>\n",
              "    <tr>\n",
              "      <th>57988</th>\n",
              "      <td>Debt collection</td>\n",
              "      <td>Medical</td>\n",
              "      <td>Cont'd attempts collect debt not owed</td>\n",
              "      <td>Debt is not mine</td>\n",
              "      <td>I find this medical debt reported on my credit...</td>\n",
              "      <td>Company chooses not to provide a public response</td>\n",
              "      <td>healthcare llc</td>\n",
              "      <td>AZ</td>\n",
              "      <td>Consent provided</td>\n",
              "      <td>Web</td>\n",
              "      <td>Closed with explanation</td>\n",
              "      <td>Yes</td>\n",
              "      <td>No</td>\n",
              "    </tr>\n",
              "  </tbody>\n",
              "</table>\n",
              "</div>"
            ],
            "text/plain": [
              "               Product  ... Consumer disputed?\n",
              "57874     Student loan  ...                 No\n",
              "57945      Payday loan  ...                 No\n",
              "57988  Debt collection  ...                 No\n",
              "\n",
              "[3 rows x 13 columns]"
            ]
          },
          "metadata": {
            "tags": []
          },
          "execution_count": 57
        }
      ]
    },
    {
      "cell_type": "code",
      "metadata": {
        "id": "7Ao0jqRoPMFi",
        "outputId": "ce147e86-85fc-4364-8f2b-d5dfde7f58c8",
        "colab": {
          "base_uri": "https://localhost:8080/",
          "height": 162
        }
      },
      "source": [
        "data3=data1.copy()\n",
        "data3.drop(['Sub-product','Sub-issue', 'State', 'Company response to consumer','Timely response?'], axis=1, inplace=True )\n",
        "data3.head(n=2)"
      ],
      "execution_count": null,
      "outputs": [
        {
          "output_type": "execute_result",
          "data": {
            "text/html": [
              "<div>\n",
              "<style scoped>\n",
              "    .dataframe tbody tr th:only-of-type {\n",
              "        vertical-align: middle;\n",
              "    }\n",
              "\n",
              "    .dataframe tbody tr th {\n",
              "        vertical-align: top;\n",
              "    }\n",
              "\n",
              "    .dataframe thead th {\n",
              "        text-align: right;\n",
              "    }\n",
              "</style>\n",
              "<table border=\"1\" class=\"dataframe\">\n",
              "  <thead>\n",
              "    <tr style=\"text-align: right;\">\n",
              "      <th></th>\n",
              "      <th>Product</th>\n",
              "      <th>Issue</th>\n",
              "      <th>Complaint</th>\n",
              "      <th>Company public response</th>\n",
              "      <th>Company</th>\n",
              "      <th>Consumer consent?</th>\n",
              "      <th>Submitted via</th>\n",
              "      <th>Consumer disputed?</th>\n",
              "    </tr>\n",
              "  </thead>\n",
              "  <tbody>\n",
              "    <tr>\n",
              "      <th>57874</th>\n",
              "      <td>Student loan</td>\n",
              "      <td>Can't repay my loan</td>\n",
              "      <td>This is a continuation of a previous issue wit...</td>\n",
              "      <td>Company chooses not to provide a public response</td>\n",
              "      <td>citibank</td>\n",
              "      <td>Consent provided</td>\n",
              "      <td>Web</td>\n",
              "      <td>No</td>\n",
              "    </tr>\n",
              "    <tr>\n",
              "      <th>57945</th>\n",
              "      <td>Payday loan</td>\n",
              "      <td>Can't stop charges to bank account</td>\n",
              "      <td>I took out a Loan from Cash Central XXXX, Al f...</td>\n",
              "      <td>Company chooses not to provide a public response</td>\n",
              "      <td>community choice financial inc</td>\n",
              "      <td>Consent provided</td>\n",
              "      <td>Web</td>\n",
              "      <td>No</td>\n",
              "    </tr>\n",
              "  </tbody>\n",
              "</table>\n",
              "</div>"
            ],
            "text/plain": [
              "            Product  ... Consumer disputed?\n",
              "57874  Student loan  ...                 No\n",
              "57945   Payday loan  ...                 No\n",
              "\n",
              "[2 rows x 8 columns]"
            ]
          },
          "metadata": {
            "tags": []
          },
          "execution_count": 58
        }
      ]
    },
    {
      "cell_type": "code",
      "metadata": {
        "id": "nXve2-ewOzjh"
      },
      "source": [
        "#training the dataset for consumer resolved status prediction\n",
        "\n",
        "x_train=data3['Complaint']\n",
        "y_train=data3['Consumer disputed?']\n",
        "\n",
        "X_train, X_test, y_train, y_test = train_test_split(x_train, y_train, test_size=0.30, random_state=42)\n"
      ],
      "execution_count": null,
      "outputs": []
    },
    {
      "cell_type": "code",
      "metadata": {
        "id": "ZjzshUaES0L1"
      },
      "source": [
        "#here i have used linear Regression model for text classification\n",
        "\n",
        "from sklearn.linear_model import LogisticRegression\n",
        "\n",
        "resolved_clf=Pipeline([('vect', TfidfVectorizer()), \n",
        "                      ('clf', LogisticRegression()) ])\n",
        "resolved_clf.fit(X_train, y_train)"
      ],
      "execution_count": null,
      "outputs": []
    },
    {
      "cell_type": "code",
      "metadata": {
        "id": "SM49PegSV8FH",
        "outputId": "e2d60b8f-6f4f-4b9f-c9e3-b34e4509c980",
        "colab": {
          "base_uri": "https://localhost:8080/",
          "height": 35
        }
      },
      "source": [
        "Resolved_Issue = resolved_clf.predict(X_test)              #accuracy is 75.4% which is not bad, lets see what is the accuracy with multinomialNB\n",
        "print('Accuracy achieved by Linear Regression is ' + str(np.mean(Resolved_Issue== y_test)))"
      ],
      "execution_count": null,
      "outputs": [
        {
          "output_type": "stream",
          "text": [
            "Accuracy achieved by Linear Regression is 0.754\n"
          ],
          "name": "stdout"
        }
      ]
    },
    {
      "cell_type": "code",
      "metadata": {
        "id": "Jg6_NmpuWk7v"
      },
      "source": [
        "#training the model with multinomial NB.\n",
        "\n",
        "x_train=data3['Complaint']\n",
        "y_train=data3['Consumer disputed?']\n",
        "X_train, X_test, y_train, y_test = train_test_split(x_train, y_train, test_size=0.30, random_state=42)\n",
        "\n",
        "resolved_clf1=Pipeline([('vect', TfidfVectorizer()), \n",
        "                      ('clf', MultinomialNB()) ])\n",
        "resolved_clf1.fit(X_train, y_train)"
      ],
      "execution_count": null,
      "outputs": []
    },
    {
      "cell_type": "code",
      "metadata": {
        "id": "dhtnbisWW5WJ",
        "outputId": "1021a4e4-f939-42c9-dae4-f1186b1be773",
        "colab": {
          "base_uri": "https://localhost:8080/",
          "height": 35
        }
      },
      "source": [
        "Resolved_Issue1 = resolved_clf.predict(X_test)              #surprisingly both model have exactly same accuracy.\n",
        "print('Accuracy achieved by multinomial Naive Bayes is ' + str(np.mean(Resolved_Issue1== y_test)))"
      ],
      "execution_count": null,
      "outputs": [
        {
          "output_type": "stream",
          "text": [
            "Accuracy achieved by multinomial Naive Bayes is 0.754\n"
          ],
          "name": "stdout"
        }
      ]
    },
    {
      "cell_type": "markdown",
      "metadata": {
        "id": "RZWTbJjYvdCE"
      },
      "source": [
        "# lets compare companies and their disputed and resolved consumers"
      ]
    },
    {
      "cell_type": "code",
      "metadata": {
        "id": "8WdHEnKcaDxI"
      },
      "source": [
        "#dataframe is created to store the records of disputed complaints against each country\n",
        "\n",
        "test=['No']\n",
        "data3_disputed = data3[~data3['Consumer disputed?'].isin(test)]           #data of disputed consumer\n",
        "\n",
        "data3_disputed=data3_disputed.groupby('Company')['Consumer disputed?'].count().to_frame()\n",
        "data3_disputed=data3_disputed[data3_disputed['Consumer disputed?']>50]\n",
        "data3_disputed = data3_disputed.rename(columns={'Consumer disputed?': 'disputed'})\n",
        "rows1=data3_disputed.index\n"
      ],
      "execution_count": null,
      "outputs": []
    },
    {
      "cell_type": "code",
      "metadata": {
        "id": "DlxvlqDDlXl6"
      },
      "source": [
        "##dataframe is created to store the records of resolved cases against each complaints\n",
        "\n",
        "test=['Yes']\n",
        "data3_resolved= data3[~data3['Consumer disputed?'].isin(test)]           #data of resolved consumer\n",
        "\n",
        "data3_resolved=data3_resolved.groupby('Company')['Consumer disputed?'].count().to_frame()\n",
        "data3_resolved = data3_resolved.rename(columns={'Consumer disputed?': 'resolved'})\n",
        "dummy_res=data3_resolved.loc[rows1]\n",
        "dummy_res\n",
        "\n",
        "result = pd.concat([data3_disputed, dummy_res], axis=1, sort=False)           #combining the disputed and resolved count against each company\n",
        "\n",
        "result.reset_index(inplace=True)"
      ],
      "execution_count": null,
      "outputs": []
    },
    {
      "cell_type": "code",
      "metadata": {
        "id": "XcfPnbx2jtB5",
        "outputId": "fda35f90-b402-4c7c-95ce-86ff30708482",
        "colab": {
          "base_uri": "https://localhost:8080/",
          "height": 642
        }
      },
      "source": [
        "labels=result['Company']\n",
        "\n",
        "\n",
        "fig, ax = plt.subplots(figsize=(10,7))\n",
        "\n",
        "width=0.35\n",
        "ax.bar(labels,result['disputed'] , width, label='disputed')\n",
        "ax.bar(labels,result['resolved'], width, bottom=result['disputed'], label='Resolved')\n",
        "\n",
        "plt.xticks(rotation=90)\n",
        "ax.set_ylabel('Count')\n",
        "ax.set_title('Count w.r.t companies')\n",
        "ax.legend()\n",
        "\n",
        "plt.show()                                                        #here i can visualize company count of disputed and resolved customer\n",
        "                                                                  #ERC company has the highest count of resolved customers whereas\n",
        "                                                                  #commonwealth financial system inc has the lowest."
      ],
      "execution_count": null,
      "outputs": [
        {
          "output_type": "display_data",
          "data": {
            "image/png": "[encoded data removed]",
            "text/plain": [
              "<Figure size 720x504 with 1 Axes>"
            ]
          },
          "metadata": {
            "tags": []
          }
        }
      ]
    },
    {
      "cell_type": "markdown",
      "metadata": {
        "id": "Ww5OoHpo-Jp7"
      },
      "source": [
        "# Lets compare the count of disputed and resolved customer w.r.t product"
      ]
    },
    {
      "cell_type": "code",
      "metadata": {
        "id": "paVqsTrR-Ebx",
        "outputId": "81c9a460-4af3-4d7e-dcbc-104cfa09a561",
        "colab": {
          "base_uri": "https://localhost:8080/",
          "height": 210
        }
      },
      "source": [
        "data3.head(n=3)"
      ],
      "execution_count": null,
      "outputs": [
        {
          "output_type": "execute_result",
          "data": {
            "text/html": [
              "<div>\n",
              "<style scoped>\n",
              "    .dataframe tbody tr th:only-of-type {\n",
              "        vertical-align: middle;\n",
              "    }\n",
              "\n",
              "    .dataframe tbody tr th {\n",
              "        vertical-align: top;\n",
              "    }\n",
              "\n",
              "    .dataframe thead th {\n",
              "        text-align: right;\n",
              "    }\n",
              "</style>\n",
              "<table border=\"1\" class=\"dataframe\">\n",
              "  <thead>\n",
              "    <tr style=\"text-align: right;\">\n",
              "      <th></th>\n",
              "      <th>Product</th>\n",
              "      <th>Issue</th>\n",
              "      <th>Complaint</th>\n",
              "      <th>Company public response</th>\n",
              "      <th>Company</th>\n",
              "      <th>Consumer consent?</th>\n",
              "      <th>Submitted via</th>\n",
              "      <th>Consumer disputed?</th>\n",
              "    </tr>\n",
              "  </thead>\n",
              "  <tbody>\n",
              "    <tr>\n",
              "      <th>57874</th>\n",
              "      <td>Student loan</td>\n",
              "      <td>Can't repay my loan</td>\n",
              "      <td>This is a continuation of a previous issue wit...</td>\n",
              "      <td>Company chooses not to provide a public response</td>\n",
              "      <td>citibank</td>\n",
              "      <td>Consent provided</td>\n",
              "      <td>Web</td>\n",
              "      <td>No</td>\n",
              "    </tr>\n",
              "    <tr>\n",
              "      <th>57945</th>\n",
              "      <td>Payday loan</td>\n",
              "      <td>Can't stop charges to bank account</td>\n",
              "      <td>I took out a Loan from Cash Central XXXX, Al f...</td>\n",
              "      <td>Company chooses not to provide a public response</td>\n",
              "      <td>community choice financial inc</td>\n",
              "      <td>Consent provided</td>\n",
              "      <td>Web</td>\n",
              "      <td>No</td>\n",
              "    </tr>\n",
              "    <tr>\n",
              "      <th>57988</th>\n",
              "      <td>Debt collection</td>\n",
              "      <td>Cont'd attempts collect debt not owed</td>\n",
              "      <td>I find this medical debt reported on my credit...</td>\n",
              "      <td>Company chooses not to provide a public response</td>\n",
              "      <td>healthcare llc</td>\n",
              "      <td>Consent provided</td>\n",
              "      <td>Web</td>\n",
              "      <td>No</td>\n",
              "    </tr>\n",
              "  </tbody>\n",
              "</table>\n",
              "</div>"
            ],
            "text/plain": [
              "               Product  ... Consumer disputed?\n",
              "57874     Student loan  ...                 No\n",
              "57945      Payday loan  ...                 No\n",
              "57988  Debt collection  ...                 No\n",
              "\n",
              "[3 rows x 8 columns]"
            ]
          },
          "metadata": {
            "tags": []
          },
          "execution_count": 83
        }
      ]
    },
    {
      "cell_type": "code",
      "metadata": {
        "id": "ZiXZsmBTLQEA",
        "outputId": "75f7da2d-6a8b-4155-c495-5215f1f6bcc4",
        "colab": {
          "base_uri": "https://localhost:8080/",
          "height": 263
        }
      },
      "source": [
        "#I have created a new dataframe to check the disputed and resolved counts w.r.t to products.\n",
        "\n",
        "product_analysis=pd.DataFrame(data3.groupby('Product')['Consumer disputed?'].value_counts())\n",
        "product_analysis                                       #we can see here debt collection has the highest number of resolved customers. "
      ],
      "execution_count": null,
      "outputs": [
        {
          "output_type": "execute_result",
          "data": {
            "text/html": [
              "<div>\n",
              "<style scoped>\n",
              "    .dataframe tbody tr th:only-of-type {\n",
              "        vertical-align: middle;\n",
              "    }\n",
              "\n",
              "    .dataframe tbody tr th {\n",
              "        vertical-align: top;\n",
              "    }\n",
              "\n",
              "    .dataframe thead th {\n",
              "        text-align: right;\n",
              "    }\n",
              "</style>\n",
              "<table border=\"1\" class=\"dataframe\">\n",
              "  <thead>\n",
              "    <tr style=\"text-align: right;\">\n",
              "      <th></th>\n",
              "      <th></th>\n",
              "      <th>Consumer disputed?</th>\n",
              "    </tr>\n",
              "    <tr>\n",
              "      <th>Product</th>\n",
              "      <th>Consumer disputed?</th>\n",
              "      <th></th>\n",
              "    </tr>\n",
              "  </thead>\n",
              "  <tbody>\n",
              "    <tr>\n",
              "      <th rowspan=\"2\" valign=\"top\">Debt collection</th>\n",
              "      <th>No</th>\n",
              "      <td>8753</td>\n",
              "    </tr>\n",
              "    <tr>\n",
              "      <th>Yes</th>\n",
              "      <td>3062</td>\n",
              "    </tr>\n",
              "    <tr>\n",
              "      <th rowspan=\"2\" valign=\"top\">Payday loan</th>\n",
              "      <th>No</th>\n",
              "      <td>338</td>\n",
              "    </tr>\n",
              "    <tr>\n",
              "      <th>Yes</th>\n",
              "      <td>75</td>\n",
              "    </tr>\n",
              "    <tr>\n",
              "      <th rowspan=\"2\" valign=\"top\">Student loan</th>\n",
              "      <th>No</th>\n",
              "      <td>850</td>\n",
              "    </tr>\n",
              "    <tr>\n",
              "      <th>Yes</th>\n",
              "      <td>255</td>\n",
              "    </tr>\n",
              "  </tbody>\n",
              "</table>\n",
              "</div>"
            ],
            "text/plain": [
              "                                    Consumer disputed?\n",
              "Product         Consumer disputed?                    \n",
              "Debt collection No                                8753\n",
              "                Yes                               3062\n",
              "Payday loan     No                                 338\n",
              "                Yes                                 75\n",
              "Student loan    No                                 850\n",
              "                Yes                                255"
            ]
          },
          "metadata": {
            "tags": []
          },
          "execution_count": 174
        }
      ]
    },
    {
      "cell_type": "code",
      "metadata": {
        "id": "FVp0lNMiOgmX"
      },
      "source": [
        "#converting the above data into dataframe\n",
        "\n",
        "product_analysis=product_analysis.rename(columns={'Consumer disputed?':'count'})\n",
        "product_analysis.reset_index(inplace=True)     \n",
        "\n",
        "dummy=product_analysis   "
      ],
      "execution_count": null,
      "outputs": []
    },
    {
      "cell_type": "code",
      "metadata": {
        "id": "1Qa59PmLRzAU",
        "outputId": "8cb0a48d-49c0-4d4f-f817-8d0eaffb7f2a",
        "colab": {
          "base_uri": "https://localhost:8080/",
          "height": 141
        }
      },
      "source": [
        "test=['Yes']\n",
        "product_analysis= product_analysis[~product_analysis['Consumer disputed?'].isin(test)] \n",
        "product_analysis.reset_index(inplace=True)  #resolved\n",
        "\n",
        "product_analysis.rename(columns={'Product': 'The Product'},inplace=True)\n",
        "product_analysis['Resolved']=product_analysis['count']\n",
        "product_analysis.drop(['index','Consumer disputed?','count'],axis=1,inplace=True)\n",
        "product_analysis           #resolved cases data "
      ],
      "execution_count": null,
      "outputs": [
        {
          "output_type": "execute_result",
          "data": {
            "text/html": [
              "<div>\n",
              "<style scoped>\n",
              "    .dataframe tbody tr th:only-of-type {\n",
              "        vertical-align: middle;\n",
              "    }\n",
              "\n",
              "    .dataframe tbody tr th {\n",
              "        vertical-align: top;\n",
              "    }\n",
              "\n",
              "    .dataframe thead th {\n",
              "        text-align: right;\n",
              "    }\n",
              "</style>\n",
              "<table border=\"1\" class=\"dataframe\">\n",
              "  <thead>\n",
              "    <tr style=\"text-align: right;\">\n",
              "      <th></th>\n",
              "      <th>The Product</th>\n",
              "      <th>Resolved</th>\n",
              "    </tr>\n",
              "  </thead>\n",
              "  <tbody>\n",
              "    <tr>\n",
              "      <th>0</th>\n",
              "      <td>Debt collection</td>\n",
              "      <td>8753</td>\n",
              "    </tr>\n",
              "    <tr>\n",
              "      <th>1</th>\n",
              "      <td>Payday loan</td>\n",
              "      <td>338</td>\n",
              "    </tr>\n",
              "    <tr>\n",
              "      <th>2</th>\n",
              "      <td>Student loan</td>\n",
              "      <td>850</td>\n",
              "    </tr>\n",
              "  </tbody>\n",
              "</table>\n",
              "</div>"
            ],
            "text/plain": [
              "       The Product  Resolved\n",
              "0  Debt collection      8753\n",
              "1      Payday loan       338\n",
              "2     Student loan       850"
            ]
          },
          "metadata": {
            "tags": []
          },
          "execution_count": 176
        }
      ]
    },
    {
      "cell_type": "code",
      "metadata": {
        "id": "bs8rqnbJSE8_",
        "outputId": "6e3e1291-eee5-4ff1-cc11-81e8bce4c653",
        "colab": {
          "base_uri": "https://localhost:8080/",
          "height": 141
        }
      },
      "source": [
        "#disputed customer data\n",
        "\n",
        "test=['No']\n",
        "dummy= dummy[~dummy['Consumer disputed?'].isin(test)] \n",
        "dummy.reset_index(inplace=True)\n",
        "dummy['Disputed']=dummy['count']\n",
        "dummy.drop(['index','Consumer disputed?','count'],axis=1,inplace=True)\n",
        "\n",
        "#concatenated the two disputed and resolved casesd df into one.\n",
        "product_result = pd.concat([product_analysis,dummy], axis=1, sort=False)\n",
        "product_result.drop('Product',axis=1,inplace=True)\n",
        "product_result"
      ],
      "execution_count": null,
      "outputs": [
        {
          "output_type": "execute_result",
          "data": {
            "text/html": [
              "<div>\n",
              "<style scoped>\n",
              "    .dataframe tbody tr th:only-of-type {\n",
              "        vertical-align: middle;\n",
              "    }\n",
              "\n",
              "    .dataframe tbody tr th {\n",
              "        vertical-align: top;\n",
              "    }\n",
              "\n",
              "    .dataframe thead th {\n",
              "        text-align: right;\n",
              "    }\n",
              "</style>\n",
              "<table border=\"1\" class=\"dataframe\">\n",
              "  <thead>\n",
              "    <tr style=\"text-align: right;\">\n",
              "      <th></th>\n",
              "      <th>The Product</th>\n",
              "      <th>Resolved</th>\n",
              "      <th>Disputed</th>\n",
              "    </tr>\n",
              "  </thead>\n",
              "  <tbody>\n",
              "    <tr>\n",
              "      <th>0</th>\n",
              "      <td>Debt collection</td>\n",
              "      <td>8753</td>\n",
              "      <td>3062</td>\n",
              "    </tr>\n",
              "    <tr>\n",
              "      <th>1</th>\n",
              "      <td>Payday loan</td>\n",
              "      <td>338</td>\n",
              "      <td>75</td>\n",
              "    </tr>\n",
              "    <tr>\n",
              "      <th>2</th>\n",
              "      <td>Student loan</td>\n",
              "      <td>850</td>\n",
              "      <td>255</td>\n",
              "    </tr>\n",
              "  </tbody>\n",
              "</table>\n",
              "</div>"
            ],
            "text/plain": [
              "       The Product  Resolved  Disputed\n",
              "0  Debt collection      8753      3062\n",
              "1      Payday loan       338        75\n",
              "2     Student loan       850       255"
            ]
          },
          "metadata": {
            "tags": []
          },
          "execution_count": 177
        }
      ]
    },
    {
      "cell_type": "code",
      "metadata": {
        "id": "2ybxajFlStxt",
        "outputId": "11b8b1cb-f0d7-472a-fa61-b68f702c273f",
        "colab": {
          "base_uri": "https://localhost:8080/",
          "height": 427
        }
      },
      "source": [
        "product_result.set_index('The Product',inplace=True)\n",
        "product_result.plot(kind='bar',figsize=(12, 6), title=\"Resolved and Disputed cases w.r.t Product\", color=['Blue', 'red'])\n",
        "plt.xticks(rotation='horizontal')\n",
        "\n",
        "#our data has the most of the complaints from debt collection. around 35% of the complaints are non resolved.\n",
        "#only a few complaints are from payday loan"
      ],
      "execution_count": null,
      "outputs": [
        {
          "output_type": "execute_result",
          "data": {
            "text/plain": [
              "(array([0, 1, 2]), <a list of 3 Text major ticklabel objects>)"
            ]
          },
          "metadata": {
            "tags": []
          },
          "execution_count": 182
        },
        {
          "output_type": "display_data",
          "data": {
            "image/png": "[encoded data removed]",
            "text/plain": [
              "<Figure size 864x432 with 1 Axes>"
            ]
          },
          "metadata": {
            "tags": []
          }
        }
      ]
    }
  ]
}