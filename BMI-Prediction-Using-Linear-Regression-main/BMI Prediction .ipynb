{
 "cells": [
  {
   "cell_type": "code",
   "execution_count": null,
   "metadata": {},
   "outputs": [],
   "source": [
    "import numpy as np\n",
    "import pandas as pd\n",
    "import matplotlib.pyplot as plt\n",
    "plt.style.use('ggplot')\n",
    "import csv"
   ]
  },
  {
   "cell_type": "markdown",
   "metadata": {},
   "source": [
    "# Load Data"
   ]
  },
  {
   "cell_type": "code",
   "execution_count": 9,
   "metadata": {},
   "outputs": [
    {
     "data": {
      "text/html": [
       "<div>\n",
       "<style scoped>\n",
       "    .dataframe tbody tr th:only-of-type {\n",
       "        vertical-align: middle;\n",
       "    }\n",
       "\n",
       "    .dataframe tbody tr th {\n",
       "        vertical-align: top;\n",
       "    }\n",
       "\n",
       "    .dataframe thead th {\n",
       "        text-align: right;\n",
       "    }\n",
       "</style>\n",
       "<table border=\"1\" class=\"dataframe\">\n",
       "  <thead>\n",
       "    <tr style=\"text-align: right;\">\n",
       "      <th></th>\n",
       "      <th>ID</th>\n",
       "      <th>WBFP</th>\n",
       "      <th>Weight</th>\n",
       "      <th>Height</th>\n",
       "      <th>BMI</th>\n",
       "      <th>Age</th>\n",
       "      <th>Sport</th>\n",
       "    </tr>\n",
       "  </thead>\n",
       "  <tbody>\n",
       "    <tr>\n",
       "      <th>0</th>\n",
       "      <td>1</td>\n",
       "      <td>12.180</td>\n",
       "      <td>84.364</td>\n",
       "      <td>192.0</td>\n",
       "      <td>22.885</td>\n",
       "      <td>25</td>\n",
       "      <td>basket</td>\n",
       "    </tr>\n",
       "    <tr>\n",
       "      <th>1</th>\n",
       "      <td>2</td>\n",
       "      <td>8.080</td>\n",
       "      <td>84.976</td>\n",
       "      <td>204.5</td>\n",
       "      <td>20.319</td>\n",
       "      <td>25</td>\n",
       "      <td>basket</td>\n",
       "    </tr>\n",
       "    <tr>\n",
       "      <th>2</th>\n",
       "      <td>3</td>\n",
       "      <td>14.031</td>\n",
       "      <td>90.785</td>\n",
       "      <td>190.5</td>\n",
       "      <td>25.016</td>\n",
       "      <td>31</td>\n",
       "      <td>basket</td>\n",
       "    </tr>\n",
       "    <tr>\n",
       "      <th>3</th>\n",
       "      <td>4</td>\n",
       "      <td>12.143</td>\n",
       "      <td>96.159</td>\n",
       "      <td>192.1</td>\n",
       "      <td>26.058</td>\n",
       "      <td>26</td>\n",
       "      <td>basket</td>\n",
       "    </tr>\n",
       "    <tr>\n",
       "      <th>4</th>\n",
       "      <td>5</td>\n",
       "      <td>12.810</td>\n",
       "      <td>97.425</td>\n",
       "      <td>198.2</td>\n",
       "      <td>24.801</td>\n",
       "      <td>34</td>\n",
       "      <td>basket</td>\n",
       "    </tr>\n",
       "  </tbody>\n",
       "</table>\n",
       "</div>"
      ],
      "text/plain": [
       "   ID    WBFP  Weight  Height     BMI  Age   Sport\n",
       "0   1  12.180  84.364   192.0  22.885   25  basket\n",
       "1   2   8.080  84.976   204.5  20.319   25  basket\n",
       "2   3  14.031  90.785   190.5  25.016   31  basket\n",
       "3   4  12.143  96.159   192.1  26.058   26  basket\n",
       "4   5  12.810  97.425   198.2  24.801   34  basket"
      ]
     },
     "execution_count": 9,
     "metadata": {},
     "output_type": "execute_result"
    }
   ],
   "source": [
    "df = pd.read_csv(\"Dataset.csv\")\n",
    "df.columns = ['ID','WBFP','Weight','Height',\"BMI\",\"Age\",\"Sport\"]\n",
    "\n",
    "#Drop missing rows\n",
    "df = df.dropna()\n",
    "\n",
    "df.head(5)"
   ]
  },
  {
   "cell_type": "markdown",
   "metadata": {},
   "source": [
    "# Train a linear model to predict BMI based on age, height and weights"
   ]
  },
  {
   "cell_type": "markdown",
   "metadata": {},
   "source": [
    "We are assuming that\n",
    "\n",
    "BMI = W1 height + W2 weight + w3 * age +bias\n",
    "\n"
   ]
  },
  {
   "cell_type": "markdown",
   "metadata": {},
   "source": [
    "\n",
    "Split into train and validation"
   ]
  },
  {
   "cell_type": "code",
   "execution_count": 11,
   "metadata": {},
   "outputs": [
    {
     "name": "stdout",
     "output_type": "stream",
     "text": [
      "train = 280,\n",
      "validation = 70\n"
     ]
    }
   ],
   "source": [
    "train_pct = 0.8\n",
    "train_index = int(len(df)*train_pct)\n",
    "\n",
    "train_data = df.iloc[:train_index].copy()\n",
    "validation_data = df.iloc[train_index:].copy()\n",
    "print(f'train = {len(train_data)},\\nvalidation = {len(validation_data)}')"
   ]
  },
  {
   "cell_type": "markdown",
   "metadata": {},
   "source": [
    "# Random initialization of weights"
   ]
  },
  {
   "cell_type": "markdown",
   "metadata": {},
   "source": [
    "From standard normal distribution\n",
    "\n"
   ]
  },
  {
   "cell_type": "code",
   "execution_count": 12,
   "metadata": {},
   "outputs": [
    {
     "name": "stdout",
     "output_type": "stream",
     "text": [
      "w1 = -0.6097386701435867,\n",
      "w2 = -0.2883776611589175,\n",
      "w3 = -0.0032166711256735223,\n",
      "bias = -1.09114847976101\n"
     ]
    }
   ],
   "source": [
    "def reset():\n",
    "    global w1,w2,w3,bias\n",
    "    w1  = np.random.randn()\n",
    "    w2  = np.random.randn()\n",
    "    w3  = np.random.randn()\n",
    "    bias  = np.random.randn()\n",
    "\n",
    "reset()\n",
    "\n",
    "print_weight = lambda : print('w1 = {},\\nw2 = {},\\nw3 = {},\\nbias = {}'.format(w1,w2,w3,bias))\n",
    "print_weight()"
   ]
  },
  {
   "cell_type": "markdown",
   "metadata": {},
   "source": [
    "# Normalize features"
   ]
  },
  {
   "cell_type": "markdown",
   "metadata": {},
   "source": [
    "Modify input features and output BMI to have\n",
    "\n",
    "mean=0\n",
    "\n",
    "standard deviation = 1"
   ]
  },
  {
   "cell_type": "code",
   "execution_count": 13,
   "metadata": {},
   "outputs": [],
   "source": [
    "def normalize(df, means, stds):\n",
    "    #print(means)\n",
    "    df['Weight'] = (df['Weight'] - means.Weight)/stds.Weight\n",
    "    df['Height'] = (df['Height'] - means.Height)/stds.Height\n",
    "    df['Age'] = (df['Age'] - means.Age)/stds.Age\n",
    "    if 'BMI' in df.columns:\n",
    "        df['BMI'] = (df['BMI'] - means.BMI)/stds.BMI\n",
    "    df.head()\n",
    "\n",
    "def de_normalize(df, means, stds):\n",
    "    #print(means)\n",
    "    df = df.copy()\n",
    "    df['Weight'] = df['Weight'] *stds.Weight + means.Weight\n",
    "    df['Height'] = df['Height'] *stds.Height + means.Height\n",
    "    df['Age'] = df['Age'] *stds.Age + means.Age\n",
    "    if 'BMI' in df.columns:\n",
    "        df['BMI'] = df['BMI'] *stds.BMI + means.BMI\n",
    "    if 'predictionBMI' in df.columns:\n",
    "        df['predictionBMI'] = df['predictionBMI'] *stds.BMI + means.BMI\n",
    "        \n",
    "    return df"
   ]
  },
  {
   "cell_type": "code",
   "execution_count": 14,
   "metadata": {},
   "outputs": [
    {
     "name": "stdout",
     "output_type": "stream",
     "text": [
      "Normalized train data\n"
     ]
    },
    {
     "data": {
      "text/html": [
       "<div>\n",
       "<style scoped>\n",
       "    .dataframe tbody tr th:only-of-type {\n",
       "        vertical-align: middle;\n",
       "    }\n",
       "\n",
       "    .dataframe tbody tr th {\n",
       "        vertical-align: top;\n",
       "    }\n",
       "\n",
       "    .dataframe thead th {\n",
       "        text-align: right;\n",
       "    }\n",
       "</style>\n",
       "<table border=\"1\" class=\"dataframe\">\n",
       "  <thead>\n",
       "    <tr style=\"text-align: right;\">\n",
       "      <th></th>\n",
       "      <th>ID</th>\n",
       "      <th>WBFP</th>\n",
       "      <th>Weight</th>\n",
       "      <th>Height</th>\n",
       "      <th>BMI</th>\n",
       "      <th>Age</th>\n",
       "      <th>Sport</th>\n",
       "    </tr>\n",
       "  </thead>\n",
       "  <tbody>\n",
       "    <tr>\n",
       "      <th>0</th>\n",
       "      <td>1</td>\n",
       "      <td>12.180</td>\n",
       "      <td>0.439571</td>\n",
       "      <td>1.170018</td>\n",
       "      <td>-0.348537</td>\n",
       "      <td>-0.222895</td>\n",
       "      <td>basket</td>\n",
       "    </tr>\n",
       "    <tr>\n",
       "      <th>1</th>\n",
       "      <td>2</td>\n",
       "      <td>8.080</td>\n",
       "      <td>0.491021</td>\n",
       "      <td>2.618368</td>\n",
       "      <td>-1.256472</td>\n",
       "      <td>-0.222895</td>\n",
       "      <td>basket</td>\n",
       "    </tr>\n",
       "    <tr>\n",
       "      <th>2</th>\n",
       "      <td>3</td>\n",
       "      <td>14.031</td>\n",
       "      <td>0.979376</td>\n",
       "      <td>0.996216</td>\n",
       "      <td>0.405481</td>\n",
       "      <td>0.504218</td>\n",
       "      <td>basket</td>\n",
       "    </tr>\n",
       "    <tr>\n",
       "      <th>3</th>\n",
       "      <td>4</td>\n",
       "      <td>12.143</td>\n",
       "      <td>1.431162</td>\n",
       "      <td>1.181605</td>\n",
       "      <td>0.774175</td>\n",
       "      <td>-0.101709</td>\n",
       "      <td>basket</td>\n",
       "    </tr>\n",
       "    <tr>\n",
       "      <th>4</th>\n",
       "      <td>5</td>\n",
       "      <td>12.810</td>\n",
       "      <td>1.537593</td>\n",
       "      <td>1.888400</td>\n",
       "      <td>0.329407</td>\n",
       "      <td>0.867775</td>\n",
       "      <td>basket</td>\n",
       "    </tr>\n",
       "  </tbody>\n",
       "</table>\n",
       "</div>"
      ],
      "text/plain": [
       "   ID    WBFP    Weight    Height       BMI       Age   Sport\n",
       "0   1  12.180  0.439571  1.170018 -0.348537 -0.222895  basket\n",
       "1   2   8.080  0.491021  2.618368 -1.256472 -0.222895  basket\n",
       "2   3  14.031  0.979376  0.996216  0.405481  0.504218  basket\n",
       "3   4  12.143  1.431162  1.181605  0.774175 -0.101709  basket\n",
       "4   5  12.810  1.537593  1.888400  0.329407  0.867775  basket"
      ]
     },
     "execution_count": 14,
     "metadata": {},
     "output_type": "execute_result"
    }
   ],
   "source": [
    "means = train_data.mean()\n",
    "stds = train_data.std()\n",
    "normalize(train_data,means,stds)\n",
    "print(\"Normalized train data\")\n",
    "train_data.head()"
   ]
  },
  {
   "cell_type": "code",
   "execution_count": 15,
   "metadata": {},
   "outputs": [
    {
     "name": "stdout",
     "output_type": "stream",
     "text": [
      "Normalized test data\n"
     ]
    },
    {
     "data": {
      "text/html": [
       "<div>\n",
       "<style scoped>\n",
       "    .dataframe tbody tr th:only-of-type {\n",
       "        vertical-align: middle;\n",
       "    }\n",
       "\n",
       "    .dataframe tbody tr th {\n",
       "        vertical-align: top;\n",
       "    }\n",
       "\n",
       "    .dataframe thead th {\n",
       "        text-align: right;\n",
       "    }\n",
       "</style>\n",
       "<table border=\"1\" class=\"dataframe\">\n",
       "  <thead>\n",
       "    <tr style=\"text-align: right;\">\n",
       "      <th></th>\n",
       "      <th>ID</th>\n",
       "      <th>WBFP</th>\n",
       "      <th>Weight</th>\n",
       "      <th>Height</th>\n",
       "      <th>BMI</th>\n",
       "      <th>Age</th>\n",
       "      <th>Sport</th>\n",
       "    </tr>\n",
       "  </thead>\n",
       "  <tbody>\n",
       "    <tr>\n",
       "      <th>280</th>\n",
       "      <td>281</td>\n",
       "      <td>12.973</td>\n",
       "      <td>-0.372534</td>\n",
       "      <td>-0.869258</td>\n",
       "      <td>0.244487</td>\n",
       "      <td>-0.707637</td>\n",
       "      <td>handball</td>\n",
       "    </tr>\n",
       "    <tr>\n",
       "      <th>281</th>\n",
       "      <td>282</td>\n",
       "      <td>13.922</td>\n",
       "      <td>-0.116545</td>\n",
       "      <td>-1.888896</td>\n",
       "      <td>1.585514</td>\n",
       "      <td>-0.344080</td>\n",
       "      <td>handball</td>\n",
       "    </tr>\n",
       "    <tr>\n",
       "      <th>282</th>\n",
       "      <td>283</td>\n",
       "      <td>17.618</td>\n",
       "      <td>0.822168</td>\n",
       "      <td>-0.092943</td>\n",
       "      <td>1.146761</td>\n",
       "      <td>0.019476</td>\n",
       "      <td>handball</td>\n",
       "    </tr>\n",
       "    <tr>\n",
       "      <th>283</th>\n",
       "      <td>284</td>\n",
       "      <td>22.325</td>\n",
       "      <td>0.004683</td>\n",
       "      <td>-0.266745</td>\n",
       "      <td>0.240949</td>\n",
       "      <td>-0.465266</td>\n",
       "      <td>handball</td>\n",
       "    </tr>\n",
       "    <tr>\n",
       "      <th>284</th>\n",
       "      <td>285</td>\n",
       "      <td>23.202</td>\n",
       "      <td>0.916157</td>\n",
       "      <td>-12.421296</td>\n",
       "      <td>48.643871</td>\n",
       "      <td>0.261847</td>\n",
       "      <td>handball</td>\n",
       "    </tr>\n",
       "  </tbody>\n",
       "</table>\n",
       "</div>"
      ],
      "text/plain": [
       "      ID    WBFP    Weight     Height        BMI       Age     Sport\n",
       "280  281  12.973 -0.372534  -0.869258   0.244487 -0.707637  handball\n",
       "281  282  13.922 -0.116545  -1.888896   1.585514 -0.344080  handball\n",
       "282  283  17.618  0.822168  -0.092943   1.146761  0.019476  handball\n",
       "283  284  22.325  0.004683  -0.266745   0.240949 -0.465266  handball\n",
       "284  285  23.202  0.916157 -12.421296  48.643871  0.261847  handball"
      ]
     },
     "execution_count": 15,
     "metadata": {},
     "output_type": "execute_result"
    }
   ],
   "source": [
    "normalize(validation_data,means,stds)\n",
    "print('Normalized test data')\n",
    "validation_data.head()"
   ]
  },
  {
   "cell_type": "markdown",
   "metadata": {},
   "source": [
    "# Predict BMI using the linear function\n"
   ]
  },
  {
   "cell_type": "code",
   "execution_count": 40,
   "metadata": {},
   "outputs": [
    {
     "name": "stdout",
     "output_type": "stream",
     "text": [
      "Random weights predictions\n"
     ]
    },
    {
     "data": {
      "text/html": [
       "<div>\n",
       "<style scoped>\n",
       "    .dataframe tbody tr th:only-of-type {\n",
       "        vertical-align: middle;\n",
       "    }\n",
       "\n",
       "    .dataframe tbody tr th {\n",
       "        vertical-align: top;\n",
       "    }\n",
       "\n",
       "    .dataframe thead th {\n",
       "        text-align: right;\n",
       "    }\n",
       "</style>\n",
       "<table border=\"1\" class=\"dataframe\">\n",
       "  <thead>\n",
       "    <tr style=\"text-align: right;\">\n",
       "      <th></th>\n",
       "      <th>ID</th>\n",
       "      <th>WBFP</th>\n",
       "      <th>Weight</th>\n",
       "      <th>Height</th>\n",
       "      <th>BMI</th>\n",
       "      <th>Age</th>\n",
       "      <th>Sport</th>\n",
       "      <th>predictionBMI</th>\n",
       "    </tr>\n",
       "  </thead>\n",
       "  <tbody>\n",
       "    <tr>\n",
       "      <th>0</th>\n",
       "      <td>1</td>\n",
       "      <td>12.180</td>\n",
       "      <td>0.439571</td>\n",
       "      <td>1.170018</td>\n",
       "      <td>-0.348537</td>\n",
       "      <td>-0.222895</td>\n",
       "      <td>basket</td>\n",
       "      <td>-0.365826</td>\n",
       "    </tr>\n",
       "    <tr>\n",
       "      <th>1</th>\n",
       "      <td>2</td>\n",
       "      <td>8.080</td>\n",
       "      <td>0.491021</td>\n",
       "      <td>2.618368</td>\n",
       "      <td>-1.256472</td>\n",
       "      <td>-0.222895</td>\n",
       "      <td>basket</td>\n",
       "      <td>-1.422380</td>\n",
       "    </tr>\n",
       "    <tr>\n",
       "      <th>2</th>\n",
       "      <td>3</td>\n",
       "      <td>14.031</td>\n",
       "      <td>0.979376</td>\n",
       "      <td>0.996216</td>\n",
       "      <td>0.405481</td>\n",
       "      <td>0.504218</td>\n",
       "      <td>basket</td>\n",
       "      <td>0.453386</td>\n",
       "    </tr>\n",
       "    <tr>\n",
       "      <th>3</th>\n",
       "      <td>4</td>\n",
       "      <td>12.143</td>\n",
       "      <td>1.431162</td>\n",
       "      <td>1.181605</td>\n",
       "      <td>0.774175</td>\n",
       "      <td>-0.101709</td>\n",
       "      <td>basket</td>\n",
       "      <td>0.855581</td>\n",
       "    </tr>\n",
       "    <tr>\n",
       "      <th>4</th>\n",
       "      <td>5</td>\n",
       "      <td>12.810</td>\n",
       "      <td>1.537593</td>\n",
       "      <td>1.888400</td>\n",
       "      <td>0.329407</td>\n",
       "      <td>0.867775</td>\n",
       "      <td>basket</td>\n",
       "      <td>0.462643</td>\n",
       "    </tr>\n",
       "  </tbody>\n",
       "</table>\n",
       "</div>"
      ],
      "text/plain": [
       "   ID    WBFP    Weight    Height       BMI       Age   Sport  predictionBMI\n",
       "0   1  12.180  0.439571  1.170018 -0.348537 -0.222895  basket      -0.365826\n",
       "1   2   8.080  0.491021  2.618368 -1.256472 -0.222895  basket      -1.422380\n",
       "2   3  14.031  0.979376  0.996216  0.405481  0.504218  basket       0.453386\n",
       "3   4  12.143  1.431162  1.181605  0.774175 -0.101709  basket       0.855581\n",
       "4   5  12.810  1.537593  1.888400  0.329407  0.867775  basket       0.462643"
      ]
     },
     "execution_count": 40,
     "metadata": {},
     "output_type": "execute_result"
    }
   ],
   "source": [
    "\n",
    "def predict_BMI(df):\n",
    "    pred = w1 * df['Height'] + w2 *df['Weight'] + w3 * df['Age'] + bias \n",
    "    df['predictionBMI'] = pred\n",
    "    return df\n",
    "\n",
    "\n",
    "print('Random weights predictions')\n",
    "preddf = predict_BMI(train_data)\n",
    "preddf.head()"
   ]
  },
  {
   "cell_type": "markdown",
   "metadata": {},
   "source": [
    "# Loss Function"
   ]
  },
  {
   "cell_type": "markdown",
   "metadata": {},
   "source": [
    "Mean squared error - squared difference between predictionBMI and actual BMI"
   ]
  },
  {
   "cell_type": "code",
   "execution_count": 17,
   "metadata": {},
   "outputs": [
    {
     "name": "stdout",
     "output_type": "stream",
     "text": [
      "loss =  3.271320218841834\n"
     ]
    }
   ],
   "source": [
    "def calculate_loss(df):\n",
    "    return np.square(df['predictionBMI'] - df['BMI'])\n",
    "\n",
    "preddf = predict_BMI(train_data)\n",
    "print('loss = ', calculate_loss(preddf).mean())"
   ]
  },
  {
   "cell_type": "markdown",
   "metadata": {},
   "source": [
    "The goal is to get zero loss"
   ]
  },
  {
   "cell_type": "markdown",
   "metadata": {},
   "source": [
    "# Gradient descent"
   ]
  },
  {
   "cell_type": "markdown",
   "metadata": {},
   "source": [
    "Minimizes mean square error by updating weights and bias based on gradient\n",
    "\n",
    "BMI = W1 height + W2 weight + w3 * age +bias\n",
    "\n",
    "loss = (BMI -actualBMI)^2\n",
    "\n",
    "d(loss)/d(w1) = 2 (BMI-actualBMI) * height\n",
    "\n",
    "d(loss)/d(w2) = 2 (BMI-actualBMI) * weight\n",
    "\n",
    "d(loss)/d(w3) = 2 (BMI-actualBMI) * age\n",
    "\n",
    "d(loss)/d(bias) = 2 (BMI-actualBMI)\n",
    "\n",
    "w = w - dw * learning_rate"
   ]
  },
  {
   "cell_type": "code",
   "execution_count": 18,
   "metadata": {},
   "outputs": [],
   "source": [
    "def calculate_gradients(df):\n",
    "    diff = df['predictionBMI'] - df['BMI']\n",
    "    dw1 = 2 * diff *df['Height']\n",
    "    dw2 = 2 * diff *df['Weight']\n",
    "    dw3 = 2 * diff *df['Age']\n",
    "    dbias = 2* diff\n",
    "    dw1,dw2,dw3 , dbias  =  dw1.values.mean(),dw2.values.mean(),dw3.values.mean(),dbias.values.mean()\n",
    "    #print(dw1,dw2,dw3 , dbias) \n",
    "    return dw1,dw2,dw3 , dbias"
   ]
  },
  {
   "cell_type": "code",
   "execution_count": 19,
   "metadata": {},
   "outputs": [],
   "source": [
    "def train(learning_rate = 0.01):\n",
    "    global w1, w2, w3, bias, preddf\n",
    "    dw1,dw2,dw3 , dbias = calculate_gradients(preddf)\n",
    "    w1 = w1 - dw1*learning_rate \n",
    "    w2 = w2 - dw2 * learning_rate \n",
    "    w3 = w3 - dw3 * learning_rate \n",
    "    bias = bias - dbias.mean() * learning_rate \n",
    "    #print(w1, w2, w3, bias)\n",
    "    preddf = predict_BMI(train_data)\n",
    "    return calculate_loss(preddf).mean()"
   ]
  },
  {
   "cell_type": "code",
   "execution_count": 20,
   "metadata": {},
   "outputs": [
    {
     "name": "stdout",
     "output_type": "stream",
     "text": [
      "\n",
      "Prediction on validation set before training\n"
     ]
    },
    {
     "data": {
      "text/html": [
       "<div>\n",
       "<style scoped>\n",
       "    .dataframe tbody tr th:only-of-type {\n",
       "        vertical-align: middle;\n",
       "    }\n",
       "\n",
       "    .dataframe tbody tr th {\n",
       "        vertical-align: top;\n",
       "    }\n",
       "\n",
       "    .dataframe thead th {\n",
       "        text-align: right;\n",
       "    }\n",
       "</style>\n",
       "<table border=\"1\" class=\"dataframe\">\n",
       "  <thead>\n",
       "    <tr style=\"text-align: right;\">\n",
       "      <th></th>\n",
       "      <th>ID</th>\n",
       "      <th>WBFP</th>\n",
       "      <th>Weight</th>\n",
       "      <th>Height</th>\n",
       "      <th>BMI</th>\n",
       "      <th>Age</th>\n",
       "      <th>Sport</th>\n",
       "      <th>predictionBMI</th>\n",
       "    </tr>\n",
       "  </thead>\n",
       "  <tbody>\n",
       "    <tr>\n",
       "      <th>280</th>\n",
       "      <td>281</td>\n",
       "      <td>12.973</td>\n",
       "      <td>74.704</td>\n",
       "      <td>174.4</td>\n",
       "      <td>24.561</td>\n",
       "      <td>21.0</td>\n",
       "      <td>handball</td>\n",
       "      <td>22.594228</td>\n",
       "    </tr>\n",
       "    <tr>\n",
       "      <th>281</th>\n",
       "      <td>282</td>\n",
       "      <td>13.922</td>\n",
       "      <td>77.749</td>\n",
       "      <td>165.6</td>\n",
       "      <td>28.351</td>\n",
       "      <td>24.0</td>\n",
       "      <td>handball</td>\n",
       "      <td>24.139369</td>\n",
       "    </tr>\n",
       "    <tr>\n",
       "      <th>282</th>\n",
       "      <td>283</td>\n",
       "      <td>17.618</td>\n",
       "      <td>88.915</td>\n",
       "      <td>181.1</td>\n",
       "      <td>27.111</td>\n",
       "      <td>27.0</td>\n",
       "      <td>handball</td>\n",
       "      <td>20.276146</td>\n",
       "    </tr>\n",
       "    <tr>\n",
       "      <th>283</th>\n",
       "      <td>284</td>\n",
       "      <td>22.325</td>\n",
       "      <td>79.191</td>\n",
       "      <td>179.6</td>\n",
       "      <td>24.551</td>\n",
       "      <td>23.0</td>\n",
       "      <td>handball</td>\n",
       "      <td>21.246314</td>\n",
       "    </tr>\n",
       "    <tr>\n",
       "      <th>284</th>\n",
       "      <td>285</td>\n",
       "      <td>23.202</td>\n",
       "      <td>90.033</td>\n",
       "      <td>74.7</td>\n",
       "      <td>161.347</td>\n",
       "      <td>29.0</td>\n",
       "      <td>handball</td>\n",
       "      <td>41.442042</td>\n",
       "    </tr>\n",
       "    <tr>\n",
       "      <th>285</th>\n",
       "      <td>286</td>\n",
       "      <td>24.969</td>\n",
       "      <td>102.508</td>\n",
       "      <td>187.7</td>\n",
       "      <td>29.096</td>\n",
       "      <td>28.0</td>\n",
       "      <td>handball</td>\n",
       "      <td>18.025882</td>\n",
       "    </tr>\n",
       "    <tr>\n",
       "      <th>286</th>\n",
       "      <td>287</td>\n",
       "      <td>10.503</td>\n",
       "      <td>59.103</td>\n",
       "      <td>182.3</td>\n",
       "      <td>17.784</td>\n",
       "      <td>23.0</td>\n",
       "      <td>handball</td>\n",
       "      <td>22.083579</td>\n",
       "    </tr>\n",
       "    <tr>\n",
       "      <th>287</th>\n",
       "      <td>288</td>\n",
       "      <td>22.594</td>\n",
       "      <td>95.179</td>\n",
       "      <td>186.0</td>\n",
       "      <td>27.512</td>\n",
       "      <td>22.0</td>\n",
       "      <td>handball</td>\n",
       "      <td>18.874089</td>\n",
       "    </tr>\n",
       "    <tr>\n",
       "      <th>288</th>\n",
       "      <td>289</td>\n",
       "      <td>16.867</td>\n",
       "      <td>86.437</td>\n",
       "      <td>186.8</td>\n",
       "      <td>24.771</td>\n",
       "      <td>21.0</td>\n",
       "      <td>handball</td>\n",
       "      <td>19.314432</td>\n",
       "    </tr>\n",
       "    <tr>\n",
       "      <th>289</th>\n",
       "      <td>290</td>\n",
       "      <td>13.942</td>\n",
       "      <td>87.547</td>\n",
       "      <td>181.7</td>\n",
       "      <td>26.518</td>\n",
       "      <td>20.0</td>\n",
       "      <td>rugby</td>\n",
       "      <td>20.257788</td>\n",
       "    </tr>\n",
       "  </tbody>\n",
       "</table>\n",
       "</div>"
      ],
      "text/plain": [
       "      ID    WBFP   Weight  Height      BMI   Age     Sport  predictionBMI\n",
       "280  281  12.973   74.704   174.4   24.561  21.0  handball      22.594228\n",
       "281  282  13.922   77.749   165.6   28.351  24.0  handball      24.139369\n",
       "282  283  17.618   88.915   181.1   27.111  27.0  handball      20.276146\n",
       "283  284  22.325   79.191   179.6   24.551  23.0  handball      21.246314\n",
       "284  285  23.202   90.033    74.7  161.347  29.0  handball      41.442042\n",
       "285  286  24.969  102.508   187.7   29.096  28.0  handball      18.025882\n",
       "286  287  10.503   59.103   182.3   17.784  23.0  handball      22.083579\n",
       "287  288  22.594   95.179   186.0   27.512  22.0  handball      18.874089\n",
       "288  289  16.867   86.437   186.8   24.771  21.0  handball      19.314432\n",
       "289  290  13.942   87.547   181.7   26.518  20.0     rugby      20.257788"
      ]
     },
     "execution_count": 20,
     "metadata": {},
     "output_type": "execute_result"
    }
   ],
   "source": [
    "print('\\nPrediction on validation set before training')\n",
    "de_normalize(predict_BMI(validation_data),means,stds).head(10)"
   ]
  },
  {
   "cell_type": "markdown",
   "metadata": {},
   "source": [
    "# Train"
   ]
  },
  {
   "cell_type": "code",
   "execution_count": 27,
   "metadata": {},
   "outputs": [
    {
     "data": {
      "application/vnd.jupyter.widget-view+json": {
       "model_id": "7762ae86ee5b464c8fca08802b9d39ce",
       "version_major": 2,
       "version_minor": 0
      },
      "text/plain": [
       "  0%|          | 0/300 [00:00<?, ?it/s]"
      ]
     },
     "metadata": {},
     "output_type": "display_data"
    },
    {
     "name": "stdout",
     "output_type": "stream",
     "text": [
      "epoch : 0 : loss = 0.010640205427402199\n",
      "epoch : 20 : loss = 0.009456020186785243\n",
      "epoch : 40 : loss = 0.008560456542169317\n",
      "epoch : 60 : loss = 0.007883067266468494\n",
      "epoch : 80 : loss = 0.007370656199671617\n",
      "epoch : 100 : loss = 0.006983022737188933\n",
      "epoch : 120 : loss = 0.006689773211191279\n",
      "epoch : 140 : loss = 0.0064679223030130704\n",
      "epoch : 160 : loss = 0.0063000845264394685\n",
      "epoch : 180 : loss = 0.0061731087308892\n",
      "epoch : 200 : loss = 0.006077046256584121\n",
      "epoch : 220 : loss = 0.00600437083863431\n",
      "epoch : 240 : loss = 0.005949388670317176\n",
      "epoch : 260 : loss = 0.005907792196622419\n",
      "epoch : 280 : loss = 0.00587632258665827\n"
     ]
    }
   ],
   "source": [
    "import time, math\n",
    "from tqdm.notebook import  tqdm\n",
    "\n",
    "\n",
    "learning_rate = 0.01\n",
    "\n",
    "for i in tqdm(range(300)):\n",
    "    loss = train(learning_rate)\n",
    "    time.sleep(0.01)\n",
    "    if i%20 ==0:\n",
    "        print(f'epoch : {i} : loss = {loss}')\n"
   ]
  },
  {
   "cell_type": "code",
   "execution_count": 28,
   "metadata": {},
   "outputs": [
    {
     "name": "stdout",
     "output_type": "stream",
     "text": [
      "after training\n",
      "w1 = -0.7734672635162253,\n",
      "w2 = 1.2380310113130453,\n",
      "w3 = 0.022671726012017095,\n",
      "bias = -3.2560544147266065e-06\n"
     ]
    }
   ],
   "source": [
    "print('after training')\n",
    "print_weight()"
   ]
  },
  {
   "cell_type": "code",
   "execution_count": 29,
   "metadata": {},
   "outputs": [
    {
     "name": "stdout",
     "output_type": "stream",
     "text": [
      "\n",
      "Prediction on validation set after training\n"
     ]
    },
    {
     "data": {
      "text/html": [
       "<div>\n",
       "<style scoped>\n",
       "    .dataframe tbody tr th:only-of-type {\n",
       "        vertical-align: middle;\n",
       "    }\n",
       "\n",
       "    .dataframe tbody tr th {\n",
       "        vertical-align: top;\n",
       "    }\n",
       "\n",
       "    .dataframe thead th {\n",
       "        text-align: right;\n",
       "    }\n",
       "</style>\n",
       "<table border=\"1\" class=\"dataframe\">\n",
       "  <thead>\n",
       "    <tr style=\"text-align: right;\">\n",
       "      <th></th>\n",
       "      <th>ID</th>\n",
       "      <th>WBFP</th>\n",
       "      <th>Weight</th>\n",
       "      <th>Height</th>\n",
       "      <th>BMI</th>\n",
       "      <th>Age</th>\n",
       "      <th>Sport</th>\n",
       "      <th>predictionBMI</th>\n",
       "    </tr>\n",
       "  </thead>\n",
       "  <tbody>\n",
       "    <tr>\n",
       "      <th>280</th>\n",
       "      <td>281</td>\n",
       "      <td>12.973</td>\n",
       "      <td>74.704</td>\n",
       "      <td>174.4</td>\n",
       "      <td>24.561</td>\n",
       "      <td>21.0</td>\n",
       "      <td>handball</td>\n",
       "      <td>24.421387</td>\n",
       "    </tr>\n",
       "    <tr>\n",
       "      <th>281</th>\n",
       "      <td>282</td>\n",
       "      <td>13.922</td>\n",
       "      <td>77.749</td>\n",
       "      <td>165.6</td>\n",
       "      <td>28.351</td>\n",
       "      <td>24.0</td>\n",
       "      <td>handball</td>\n",
       "      <td>27.569263</td>\n",
       "    </tr>\n",
       "    <tr>\n",
       "      <th>282</th>\n",
       "      <td>283</td>\n",
       "      <td>17.618</td>\n",
       "      <td>88.915</td>\n",
       "      <td>181.1</td>\n",
       "      <td>27.111</td>\n",
       "      <td>27.0</td>\n",
       "      <td>handball</td>\n",
       "      <td>26.951135</td>\n",
       "    </tr>\n",
       "    <tr>\n",
       "      <th>283</th>\n",
       "      <td>284</td>\n",
       "      <td>22.325</td>\n",
       "      <td>79.191</td>\n",
       "      <td>179.6</td>\n",
       "      <td>24.551</td>\n",
       "      <td>23.0</td>\n",
       "      <td>handball</td>\n",
       "      <td>24.439691</td>\n",
       "    </tr>\n",
       "    <tr>\n",
       "      <th>284</th>\n",
       "      <td>285</td>\n",
       "      <td>23.202</td>\n",
       "      <td>90.033</td>\n",
       "      <td>74.7</td>\n",
       "      <td>161.347</td>\n",
       "      <td>29.0</td>\n",
       "      <td>handball</td>\n",
       "      <td>54.244908</td>\n",
       "    </tr>\n",
       "    <tr>\n",
       "      <th>285</th>\n",
       "      <td>286</td>\n",
       "      <td>24.969</td>\n",
       "      <td>102.508</td>\n",
       "      <td>187.7</td>\n",
       "      <td>29.096</td>\n",
       "      <td>28.0</td>\n",
       "      <td>handball</td>\n",
       "      <td>29.285603</td>\n",
       "    </tr>\n",
       "    <tr>\n",
       "      <th>286</th>\n",
       "      <td>287</td>\n",
       "      <td>10.503</td>\n",
       "      <td>59.103</td>\n",
       "      <td>182.3</td>\n",
       "      <td>17.784</td>\n",
       "      <td>23.0</td>\n",
       "      <td>handball</td>\n",
       "      <td>17.846948</td>\n",
       "    </tr>\n",
       "    <tr>\n",
       "      <th>287</th>\n",
       "      <td>288</td>\n",
       "      <td>22.594</td>\n",
       "      <td>95.179</td>\n",
       "      <td>186.0</td>\n",
       "      <td>27.512</td>\n",
       "      <td>22.0</td>\n",
       "      <td>handball</td>\n",
       "      <td>27.513774</td>\n",
       "    </tr>\n",
       "    <tr>\n",
       "      <th>288</th>\n",
       "      <td>289</td>\n",
       "      <td>16.867</td>\n",
       "      <td>86.437</td>\n",
       "      <td>186.8</td>\n",
       "      <td>24.771</td>\n",
       "      <td>21.0</td>\n",
       "      <td>handball</td>\n",
       "      <td>24.731926</td>\n",
       "    </tr>\n",
       "    <tr>\n",
       "      <th>289</th>\n",
       "      <td>290</td>\n",
       "      <td>13.942</td>\n",
       "      <td>87.547</td>\n",
       "      <td>181.7</td>\n",
       "      <td>26.518</td>\n",
       "      <td>20.0</td>\n",
       "      <td>rugby</td>\n",
       "      <td>26.342414</td>\n",
       "    </tr>\n",
       "  </tbody>\n",
       "</table>\n",
       "</div>"
      ],
      "text/plain": [
       "      ID    WBFP   Weight  Height      BMI   Age     Sport  predictionBMI\n",
       "280  281  12.973   74.704   174.4   24.561  21.0  handball      24.421387\n",
       "281  282  13.922   77.749   165.6   28.351  24.0  handball      27.569263\n",
       "282  283  17.618   88.915   181.1   27.111  27.0  handball      26.951135\n",
       "283  284  22.325   79.191   179.6   24.551  23.0  handball      24.439691\n",
       "284  285  23.202   90.033    74.7  161.347  29.0  handball      54.244908\n",
       "285  286  24.969  102.508   187.7   29.096  28.0  handball      29.285603\n",
       "286  287  10.503   59.103   182.3   17.784  23.0  handball      17.846948\n",
       "287  288  22.594   95.179   186.0   27.512  22.0  handball      27.513774\n",
       "288  289  16.867   86.437   186.8   24.771  21.0  handball      24.731926\n",
       "289  290  13.942   87.547   181.7   26.518  20.0     rugby      26.342414"
      ]
     },
     "execution_count": 29,
     "metadata": {},
     "output_type": "execute_result"
    }
   ],
   "source": [
    "\n",
    "print('\\nPrediction on validation set after training')\n",
    "de_normalize(predict_BMI(validation_data),means,stds).head(10)"
   ]
  },
  {
   "cell_type": "code",
   "execution_count": 30,
   "metadata": {},
   "outputs": [],
   "source": [
    "def predictBMI_real(data):\n",
    "    df = pd.DataFrame(data)\n",
    "    normalize(df,means, stds)\n",
    "    return de_normalize(predict_BMI(df),means, stds)"
   ]
  },
  {
   "cell_type": "markdown",
   "metadata": {},
   "source": [
    "# Using the linear model calculate my BMI"
   ]
  },
  {
   "cell_type": "code",
   "execution_count": 31,
   "metadata": {},
   "outputs": [
    {
     "data": {
      "text/html": [
       "<div>\n",
       "<style scoped>\n",
       "    .dataframe tbody tr th:only-of-type {\n",
       "        vertical-align: middle;\n",
       "    }\n",
       "\n",
       "    .dataframe tbody tr th {\n",
       "        vertical-align: top;\n",
       "    }\n",
       "\n",
       "    .dataframe thead th {\n",
       "        text-align: right;\n",
       "    }\n",
       "</style>\n",
       "<table border=\"1\" class=\"dataframe\">\n",
       "  <thead>\n",
       "    <tr style=\"text-align: right;\">\n",
       "      <th></th>\n",
       "      <th>name</th>\n",
       "      <th>Age</th>\n",
       "      <th>Height</th>\n",
       "      <th>Weight</th>\n",
       "      <th>predictionBMI</th>\n",
       "    </tr>\n",
       "  </thead>\n",
       "  <tbody>\n",
       "    <tr>\n",
       "      <th>0</th>\n",
       "      <td>Ebad</td>\n",
       "      <td>22.0</td>\n",
       "      <td>186.0</td>\n",
       "      <td>75.0</td>\n",
       "      <td>21.578129</td>\n",
       "    </tr>\n",
       "  </tbody>\n",
       "</table>\n",
       "</div>"
      ],
      "text/plain": [
       "   name   Age  Height  Weight  predictionBMI\n",
       "0  Ebad  22.0   186.0    75.0      21.578129"
      ]
     },
     "execution_count": 31,
     "metadata": {},
     "output_type": "execute_result"
    }
   ],
   "source": [
    "new_data = [{'name' :'Ebad', 'Age': 22, 'Height': 186, 'Weight': 75}]\n",
    "predictBMI_real(new_data)"
   ]
  },
  {
   "cell_type": "code",
   "execution_count": null,
   "metadata": {},
   "outputs": [],
   "source": []
  }
 ],
 "metadata": {
  "kernelspec": {
   "display_name": "Python 3",
   "language": "python",
   "name": "python3"
  },
  "language_info": {
   "codemirror_mode": {
    "name": "ipython",
    "version": 3
   },
   "file_extension": ".py",
   "mimetype": "text/x-python",
   "name": "python",
   "nbconvert_exporter": "python",
   "pygments_lexer": "ipython3",
   "version": "3.8.5"
  }
 },
 "nbformat": 4,
 "nbformat_minor": 4
}
